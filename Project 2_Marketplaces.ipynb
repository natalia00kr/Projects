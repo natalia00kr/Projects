{
 "cells": [
  {
   "cell_type": "markdown",
   "id": "ebe18fdb",
   "metadata": {},
   "source": [
    "# Analyzing product cards on marketplaces"
   ]
  },
  {
   "cell_type": "markdown",
   "id": "4411328f",
   "metadata": {},
   "source": [
    "The suggested dataset contains information about product cards on marketplaces from July 1 to July 30, 2022. In this project, the data will first be cleaned (removing duplicates, searching for anomalies, dealing with missing values), and then hypotheses will be proposed and statistical tests will be performed on the cleaned data."
   ]
  },
  {
   "cell_type": "markdown",
   "id": "84d062d9",
   "metadata": {},
   "source": [
    "## 0. Description of variables"
   ]
  },
  {
   "cell_type": "markdown",
   "id": "d778bffb",
   "metadata": {},
   "source": [
    "date - date of the observation\n",
    "\n",
    "region_id - region\n",
    "\n",
    "local_id - product id (unique on marketplace)\n",
    "\n",
    "marketplace_id - marketplace\n",
    "\n",
    "brand_id - brand\n",
    "\n",
    "is_description - availability of description (1/0)\n",
    "\n",
    "is_composition - presence of composition (1/0)\n",
    "\n",
    "images_number - number of images\n",
    "\n",
    "search_id - search query (there can be several queries for one product)\n",
    "\n",
    "search_position - position in the output by search query\n",
    "\n",
    "category_id - category (there can be several categories for one product)\n",
    "\n",
    "category_position - position in the category\n",
    "\n",
    "votes - number of reviews\n",
    "\n",
    "rating - rating\n",
    "\n",
    "video_availability - video availability (1/0)\n",
    "\n",
    "availability - availability of the product on the marketplace (1/0)\n",
    "\n",
    "regular_price - price before discount (if there is no discount, the value is written to the discount_price column, and this column remains null)\n",
    "\n",
    "discount_price - price with discount \n",
    "\n",
    "weight - weight"
   ]
  },
  {
   "cell_type": "code",
   "execution_count": 1,
   "id": "e47e23c4",
   "metadata": {},
   "outputs": [],
   "source": [
    "import numpy as np\n",
    "import matplotlib.pyplot as plt\n",
    "import pandas as pd  \n",
    "%matplotlib inline"
   ]
  },
  {
   "cell_type": "code",
   "execution_count": 2,
   "id": "484b4ac2",
   "metadata": {
    "scrolled": false
   },
   "outputs": [
    {
     "data": {
      "text/html": [
       "<div>\n",
       "<style scoped>\n",
       "    .dataframe tbody tr th:only-of-type {\n",
       "        vertical-align: middle;\n",
       "    }\n",
       "\n",
       "    .dataframe tbody tr th {\n",
       "        vertical-align: top;\n",
       "    }\n",
       "\n",
       "    .dataframe thead th {\n",
       "        text-align: right;\n",
       "    }\n",
       "</style>\n",
       "<table border=\"1\" class=\"dataframe\">\n",
       "  <thead>\n",
       "    <tr style=\"text-align: right;\">\n",
       "      <th></th>\n",
       "      <th>date</th>\n",
       "      <th>region_id</th>\n",
       "      <th>local_id</th>\n",
       "      <th>marketplace_id</th>\n",
       "      <th>brand_id</th>\n",
       "      <th>is_description</th>\n",
       "      <th>is_composition</th>\n",
       "      <th>images_number</th>\n",
       "      <th>search_id</th>\n",
       "      <th>search_position</th>\n",
       "      <th>category_id</th>\n",
       "      <th>category_position</th>\n",
       "      <th>votes</th>\n",
       "      <th>rating</th>\n",
       "      <th>video_availability</th>\n",
       "      <th>availability</th>\n",
       "      <th>regular_price</th>\n",
       "      <th>discount_price</th>\n",
       "      <th>weight</th>\n",
       "    </tr>\n",
       "  </thead>\n",
       "  <tbody>\n",
       "    <tr>\n",
       "      <th>0</th>\n",
       "      <td>2022-07-01</td>\n",
       "      <td>1</td>\n",
       "      <td>14439</td>\n",
       "      <td>10</td>\n",
       "      <td>5220.0</td>\n",
       "      <td>1</td>\n",
       "      <td>1</td>\n",
       "      <td>1</td>\n",
       "      <td>770.0</td>\n",
       "      <td>81.0</td>\n",
       "      <td>55</td>\n",
       "      <td>9</td>\n",
       "      <td>0.0</td>\n",
       "      <td>0.0</td>\n",
       "      <td>0</td>\n",
       "      <td>1</td>\n",
       "      <td>NaN</td>\n",
       "      <td>16099.0</td>\n",
       "      <td>125.0</td>\n",
       "    </tr>\n",
       "    <tr>\n",
       "      <th>1</th>\n",
       "      <td>2022-07-01</td>\n",
       "      <td>1</td>\n",
       "      <td>14439</td>\n",
       "      <td>10</td>\n",
       "      <td>5220.0</td>\n",
       "      <td>1</td>\n",
       "      <td>1</td>\n",
       "      <td>1</td>\n",
       "      <td>770.0</td>\n",
       "      <td>81.0</td>\n",
       "      <td>55</td>\n",
       "      <td>9</td>\n",
       "      <td>0.0</td>\n",
       "      <td>0.0</td>\n",
       "      <td>0</td>\n",
       "      <td>1</td>\n",
       "      <td>NaN</td>\n",
       "      <td>16099.0</td>\n",
       "      <td>125.0</td>\n",
       "    </tr>\n",
       "    <tr>\n",
       "      <th>2</th>\n",
       "      <td>2022-07-01</td>\n",
       "      <td>1</td>\n",
       "      <td>22115</td>\n",
       "      <td>10</td>\n",
       "      <td>56489.0</td>\n",
       "      <td>1</td>\n",
       "      <td>1</td>\n",
       "      <td>1</td>\n",
       "      <td>NaN</td>\n",
       "      <td>NaN</td>\n",
       "      <td>59</td>\n",
       "      <td>86</td>\n",
       "      <td>NaN</td>\n",
       "      <td>NaN</td>\n",
       "      <td>0</td>\n",
       "      <td>0</td>\n",
       "      <td>NaN</td>\n",
       "      <td>NaN</td>\n",
       "      <td>300.0</td>\n",
       "    </tr>\n",
       "    <tr>\n",
       "      <th>3</th>\n",
       "      <td>2022-07-01</td>\n",
       "      <td>1</td>\n",
       "      <td>22115</td>\n",
       "      <td>10</td>\n",
       "      <td>56489.0</td>\n",
       "      <td>1</td>\n",
       "      <td>1</td>\n",
       "      <td>1</td>\n",
       "      <td>NaN</td>\n",
       "      <td>NaN</td>\n",
       "      <td>59</td>\n",
       "      <td>86</td>\n",
       "      <td>NaN</td>\n",
       "      <td>NaN</td>\n",
       "      <td>0</td>\n",
       "      <td>0</td>\n",
       "      <td>NaN</td>\n",
       "      <td>NaN</td>\n",
       "      <td>300.0</td>\n",
       "    </tr>\n",
       "    <tr>\n",
       "      <th>4</th>\n",
       "      <td>2022-07-01</td>\n",
       "      <td>1</td>\n",
       "      <td>109059</td>\n",
       "      <td>1</td>\n",
       "      <td>6060.0</td>\n",
       "      <td>1</td>\n",
       "      <td>1</td>\n",
       "      <td>7</td>\n",
       "      <td>783.0</td>\n",
       "      <td>4.0</td>\n",
       "      <td>55</td>\n",
       "      <td>11</td>\n",
       "      <td>322.0</td>\n",
       "      <td>500.0</td>\n",
       "      <td>1</td>\n",
       "      <td>1</td>\n",
       "      <td>41500.0</td>\n",
       "      <td>34900.0</td>\n",
       "      <td>400.0</td>\n",
       "    </tr>\n",
       "    <tr>\n",
       "      <th>5</th>\n",
       "      <td>2022-07-01</td>\n",
       "      <td>1</td>\n",
       "      <td>109059</td>\n",
       "      <td>1</td>\n",
       "      <td>6060.0</td>\n",
       "      <td>1</td>\n",
       "      <td>1</td>\n",
       "      <td>7</td>\n",
       "      <td>764.0</td>\n",
       "      <td>2.0</td>\n",
       "      <td>55</td>\n",
       "      <td>11</td>\n",
       "      <td>322.0</td>\n",
       "      <td>500.0</td>\n",
       "      <td>1</td>\n",
       "      <td>1</td>\n",
       "      <td>41500.0</td>\n",
       "      <td>34900.0</td>\n",
       "      <td>400.0</td>\n",
       "    </tr>\n",
       "    <tr>\n",
       "      <th>6</th>\n",
       "      <td>2022-07-01</td>\n",
       "      <td>1</td>\n",
       "      <td>109059</td>\n",
       "      <td>1</td>\n",
       "      <td>6060.0</td>\n",
       "      <td>1</td>\n",
       "      <td>1</td>\n",
       "      <td>7</td>\n",
       "      <td>770.0</td>\n",
       "      <td>3.0</td>\n",
       "      <td>55</td>\n",
       "      <td>11</td>\n",
       "      <td>322.0</td>\n",
       "      <td>500.0</td>\n",
       "      <td>1</td>\n",
       "      <td>1</td>\n",
       "      <td>41500.0</td>\n",
       "      <td>34900.0</td>\n",
       "      <td>400.0</td>\n",
       "    </tr>\n",
       "    <tr>\n",
       "      <th>7</th>\n",
       "      <td>2022-07-01</td>\n",
       "      <td>1</td>\n",
       "      <td>109060</td>\n",
       "      <td>1</td>\n",
       "      <td>4360.0</td>\n",
       "      <td>1</td>\n",
       "      <td>1</td>\n",
       "      <td>2</td>\n",
       "      <td>783.0</td>\n",
       "      <td>2.0</td>\n",
       "      <td>55</td>\n",
       "      <td>3</td>\n",
       "      <td>179.0</td>\n",
       "      <td>500.0</td>\n",
       "      <td>0</td>\n",
       "      <td>1</td>\n",
       "      <td>NaN</td>\n",
       "      <td>12000.0</td>\n",
       "      <td>150.0</td>\n",
       "    </tr>\n",
       "    <tr>\n",
       "      <th>8</th>\n",
       "      <td>2022-07-01</td>\n",
       "      <td>1</td>\n",
       "      <td>109060</td>\n",
       "      <td>1</td>\n",
       "      <td>4360.0</td>\n",
       "      <td>1</td>\n",
       "      <td>1</td>\n",
       "      <td>2</td>\n",
       "      <td>766.0</td>\n",
       "      <td>1.0</td>\n",
       "      <td>55</td>\n",
       "      <td>3</td>\n",
       "      <td>179.0</td>\n",
       "      <td>500.0</td>\n",
       "      <td>0</td>\n",
       "      <td>1</td>\n",
       "      <td>NaN</td>\n",
       "      <td>12000.0</td>\n",
       "      <td>150.0</td>\n",
       "    </tr>\n",
       "    <tr>\n",
       "      <th>9</th>\n",
       "      <td>2022-07-01</td>\n",
       "      <td>1</td>\n",
       "      <td>109060</td>\n",
       "      <td>1</td>\n",
       "      <td>4360.0</td>\n",
       "      <td>1</td>\n",
       "      <td>1</td>\n",
       "      <td>2</td>\n",
       "      <td>770.0</td>\n",
       "      <td>2.0</td>\n",
       "      <td>55</td>\n",
       "      <td>3</td>\n",
       "      <td>179.0</td>\n",
       "      <td>500.0</td>\n",
       "      <td>0</td>\n",
       "      <td>1</td>\n",
       "      <td>NaN</td>\n",
       "      <td>12000.0</td>\n",
       "      <td>150.0</td>\n",
       "    </tr>\n",
       "  </tbody>\n",
       "</table>\n",
       "</div>"
      ],
      "text/plain": [
       "         date  region_id  local_id  marketplace_id  brand_id  is_description  \\\n",
       "0  2022-07-01          1     14439              10    5220.0               1   \n",
       "1  2022-07-01          1     14439              10    5220.0               1   \n",
       "2  2022-07-01          1     22115              10   56489.0               1   \n",
       "3  2022-07-01          1     22115              10   56489.0               1   \n",
       "4  2022-07-01          1    109059               1    6060.0               1   \n",
       "5  2022-07-01          1    109059               1    6060.0               1   \n",
       "6  2022-07-01          1    109059               1    6060.0               1   \n",
       "7  2022-07-01          1    109060               1    4360.0               1   \n",
       "8  2022-07-01          1    109060               1    4360.0               1   \n",
       "9  2022-07-01          1    109060               1    4360.0               1   \n",
       "\n",
       "   is_composition  images_number  search_id  search_position  category_id  \\\n",
       "0               1              1      770.0             81.0           55   \n",
       "1               1              1      770.0             81.0           55   \n",
       "2               1              1        NaN              NaN           59   \n",
       "3               1              1        NaN              NaN           59   \n",
       "4               1              7      783.0              4.0           55   \n",
       "5               1              7      764.0              2.0           55   \n",
       "6               1              7      770.0              3.0           55   \n",
       "7               1              2      783.0              2.0           55   \n",
       "8               1              2      766.0              1.0           55   \n",
       "9               1              2      770.0              2.0           55   \n",
       "\n",
       "   category_position  votes  rating  video_availability  availability  \\\n",
       "0                  9    0.0     0.0                   0             1   \n",
       "1                  9    0.0     0.0                   0             1   \n",
       "2                 86    NaN     NaN                   0             0   \n",
       "3                 86    NaN     NaN                   0             0   \n",
       "4                 11  322.0   500.0                   1             1   \n",
       "5                 11  322.0   500.0                   1             1   \n",
       "6                 11  322.0   500.0                   1             1   \n",
       "7                  3  179.0   500.0                   0             1   \n",
       "8                  3  179.0   500.0                   0             1   \n",
       "9                  3  179.0   500.0                   0             1   \n",
       "\n",
       "   regular_price  discount_price  weight  \n",
       "0            NaN         16099.0   125.0  \n",
       "1            NaN         16099.0   125.0  \n",
       "2            NaN             NaN   300.0  \n",
       "3            NaN             NaN   300.0  \n",
       "4        41500.0         34900.0   400.0  \n",
       "5        41500.0         34900.0   400.0  \n",
       "6        41500.0         34900.0   400.0  \n",
       "7            NaN         12000.0   150.0  \n",
       "8            NaN         12000.0   150.0  \n",
       "9            NaN         12000.0   150.0  "
      ]
     },
     "execution_count": 2,
     "metadata": {},
     "output_type": "execute_result"
    }
   ],
   "source": [
    "df = pd.read_csv('Тестовая_выгрузка_DA.csv')\n",
    "df.head(10)"
   ]
  },
  {
   "cell_type": "code",
   "execution_count": 3,
   "id": "ddbd4dd0",
   "metadata": {},
   "outputs": [
    {
     "data": {
      "text/plain": [
       "(1330665, 19)"
      ]
     },
     "execution_count": 3,
     "metadata": {},
     "output_type": "execute_result"
    }
   ],
   "source": [
    "df.shape"
   ]
  },
  {
   "cell_type": "code",
   "execution_count": 4,
   "id": "12a878af",
   "metadata": {},
   "outputs": [
    {
     "data": {
      "text/html": [
       "<div>\n",
       "<style scoped>\n",
       "    .dataframe tbody tr th:only-of-type {\n",
       "        vertical-align: middle;\n",
       "    }\n",
       "\n",
       "    .dataframe tbody tr th {\n",
       "        vertical-align: top;\n",
       "    }\n",
       "\n",
       "    .dataframe thead th {\n",
       "        text-align: right;\n",
       "    }\n",
       "</style>\n",
       "<table border=\"1\" class=\"dataframe\">\n",
       "  <thead>\n",
       "    <tr style=\"text-align: right;\">\n",
       "      <th></th>\n",
       "      <th>region_id</th>\n",
       "      <th>local_id</th>\n",
       "      <th>marketplace_id</th>\n",
       "      <th>brand_id</th>\n",
       "      <th>is_description</th>\n",
       "      <th>is_composition</th>\n",
       "      <th>images_number</th>\n",
       "      <th>search_id</th>\n",
       "      <th>search_position</th>\n",
       "      <th>category_id</th>\n",
       "      <th>category_position</th>\n",
       "      <th>votes</th>\n",
       "      <th>rating</th>\n",
       "      <th>video_availability</th>\n",
       "      <th>availability</th>\n",
       "      <th>regular_price</th>\n",
       "      <th>discount_price</th>\n",
       "      <th>weight</th>\n",
       "    </tr>\n",
       "  </thead>\n",
       "  <tbody>\n",
       "    <tr>\n",
       "      <th>count</th>\n",
       "      <td>1330665.0</td>\n",
       "      <td>1.330665e+06</td>\n",
       "      <td>1.330665e+06</td>\n",
       "      <td>1.307528e+06</td>\n",
       "      <td>1.330665e+06</td>\n",
       "      <td>1.330665e+06</td>\n",
       "      <td>1.330665e+06</td>\n",
       "      <td>1.171666e+06</td>\n",
       "      <td>1.171666e+06</td>\n",
       "      <td>1.330665e+06</td>\n",
       "      <td>1.330665e+06</td>\n",
       "      <td>409951.000000</td>\n",
       "      <td>383936.000000</td>\n",
       "      <td>1.330665e+06</td>\n",
       "      <td>1.330665e+06</td>\n",
       "      <td>169269.000000</td>\n",
       "      <td>1.098376e+06</td>\n",
       "      <td>1.249949e+06</td>\n",
       "    </tr>\n",
       "    <tr>\n",
       "      <th>mean</th>\n",
       "      <td>1.0</td>\n",
       "      <td>2.274509e+06</td>\n",
       "      <td>1.185325e+01</td>\n",
       "      <td>1.512337e+04</td>\n",
       "      <td>6.627130e-01</td>\n",
       "      <td>8.963616e-01</td>\n",
       "      <td>1.399061e+00</td>\n",
       "      <td>7.739882e+02</td>\n",
       "      <td>3.920017e+02</td>\n",
       "      <td>5.852551e+01</td>\n",
       "      <td>2.817172e+02</td>\n",
       "      <td>4.947933</td>\n",
       "      <td>2691.096172</td>\n",
       "      <td>1.603709e-03</td>\n",
       "      <td>7.870313e-01</td>\n",
       "      <td>32345.191358</td>\n",
       "      <td>3.003183e+04</td>\n",
       "      <td>3.741596e+02</td>\n",
       "    </tr>\n",
       "    <tr>\n",
       "      <th>std</th>\n",
       "      <td>0.0</td>\n",
       "      <td>5.138686e+05</td>\n",
       "      <td>1.014872e+01</td>\n",
       "      <td>2.002659e+04</td>\n",
       "      <td>4.727839e-01</td>\n",
       "      <td>3.047910e-01</td>\n",
       "      <td>1.121188e+00</td>\n",
       "      <td>8.388151e+00</td>\n",
       "      <td>5.120790e+02</td>\n",
       "      <td>2.464777e+00</td>\n",
       "      <td>6.208290e+02</td>\n",
       "      <td>14.019346</td>\n",
       "      <td>10625.279767</td>\n",
       "      <td>4.001423e-02</td>\n",
       "      <td>4.094059e-01</td>\n",
       "      <td>39993.859064</td>\n",
       "      <td>4.502294e+04</td>\n",
       "      <td>9.736709e+02</td>\n",
       "    </tr>\n",
       "    <tr>\n",
       "      <th>min</th>\n",
       "      <td>1.0</td>\n",
       "      <td>1.443900e+04</td>\n",
       "      <td>1.000000e+00</td>\n",
       "      <td>1.000000e+00</td>\n",
       "      <td>0.000000e+00</td>\n",
       "      <td>0.000000e+00</td>\n",
       "      <td>0.000000e+00</td>\n",
       "      <td>7.610000e+02</td>\n",
       "      <td>1.000000e+00</td>\n",
       "      <td>5.500000e+01</td>\n",
       "      <td>1.000000e+00</td>\n",
       "      <td>0.000000</td>\n",
       "      <td>0.000000</td>\n",
       "      <td>0.000000e+00</td>\n",
       "      <td>0.000000e+00</td>\n",
       "      <td>46.000000</td>\n",
       "      <td>1.100000e+01</td>\n",
       "      <td>0.000000e+00</td>\n",
       "    </tr>\n",
       "    <tr>\n",
       "      <th>25%</th>\n",
       "      <td>1.0</td>\n",
       "      <td>2.384409e+06</td>\n",
       "      <td>5.000000e+00</td>\n",
       "      <td>5.276000e+03</td>\n",
       "      <td>0.000000e+00</td>\n",
       "      <td>1.000000e+00</td>\n",
       "      <td>1.000000e+00</td>\n",
       "      <td>7.670000e+02</td>\n",
       "      <td>4.600000e+01</td>\n",
       "      <td>5.500000e+01</td>\n",
       "      <td>4.100000e+01</td>\n",
       "      <td>0.000000</td>\n",
       "      <td>0.000000</td>\n",
       "      <td>0.000000e+00</td>\n",
       "      <td>1.000000e+00</td>\n",
       "      <td>12999.000000</td>\n",
       "      <td>1.169900e+04</td>\n",
       "      <td>1.400000e+02</td>\n",
       "    </tr>\n",
       "    <tr>\n",
       "      <th>50%</th>\n",
       "      <td>1.0</td>\n",
       "      <td>2.386097e+06</td>\n",
       "      <td>1.000000e+01</td>\n",
       "      <td>5.524000e+03</td>\n",
       "      <td>1.000000e+00</td>\n",
       "      <td>1.000000e+00</td>\n",
       "      <td>1.000000e+00</td>\n",
       "      <td>7.740000e+02</td>\n",
       "      <td>1.750000e+02</td>\n",
       "      <td>6.000000e+01</td>\n",
       "      <td>9.000000e+01</td>\n",
       "      <td>0.000000</td>\n",
       "      <td>300.000000</td>\n",
       "      <td>0.000000e+00</td>\n",
       "      <td>1.000000e+00</td>\n",
       "      <td>20045.000000</td>\n",
       "      <td>1.699900e+04</td>\n",
       "      <td>2.000000e+02</td>\n",
       "    </tr>\n",
       "    <tr>\n",
       "      <th>75%</th>\n",
       "      <td>1.0</td>\n",
       "      <td>2.393037e+06</td>\n",
       "      <td>1.400000e+01</td>\n",
       "      <td>6.380000e+03</td>\n",
       "      <td>1.000000e+00</td>\n",
       "      <td>1.000000e+00</td>\n",
       "      <td>2.000000e+00</td>\n",
       "      <td>7.810000e+02</td>\n",
       "      <td>5.780000e+02</td>\n",
       "      <td>6.000000e+01</td>\n",
       "      <td>2.360000e+02</td>\n",
       "      <td>4.000000</td>\n",
       "      <td>500.000000</td>\n",
       "      <td>0.000000e+00</td>\n",
       "      <td>1.000000e+00</td>\n",
       "      <td>33000.000000</td>\n",
       "      <td>2.800000e+04</td>\n",
       "      <td>3.000000e+02</td>\n",
       "    </tr>\n",
       "    <tr>\n",
       "      <th>max</th>\n",
       "      <td>1.0</td>\n",
       "      <td>2.776543e+06</td>\n",
       "      <td>3.200000e+01</td>\n",
       "      <td>8.460100e+04</td>\n",
       "      <td>1.000000e+00</td>\n",
       "      <td>1.000000e+00</td>\n",
       "      <td>2.100000e+01</td>\n",
       "      <td>7.890000e+02</td>\n",
       "      <td>4.111000e+03</td>\n",
       "      <td>6.100000e+01</td>\n",
       "      <td>8.862000e+03</td>\n",
       "      <td>459.000000</td>\n",
       "      <td>50000.000000</td>\n",
       "      <td>1.000000e+00</td>\n",
       "      <td>1.000000e+00</td>\n",
       "      <td>700000.000000</td>\n",
       "      <td>7.659000e+05</td>\n",
       "      <td>2.280000e+04</td>\n",
       "    </tr>\n",
       "  </tbody>\n",
       "</table>\n",
       "</div>"
      ],
      "text/plain": [
       "       region_id      local_id  marketplace_id      brand_id  is_description  \\\n",
       "count  1330665.0  1.330665e+06    1.330665e+06  1.307528e+06    1.330665e+06   \n",
       "mean         1.0  2.274509e+06    1.185325e+01  1.512337e+04    6.627130e-01   \n",
       "std          0.0  5.138686e+05    1.014872e+01  2.002659e+04    4.727839e-01   \n",
       "min          1.0  1.443900e+04    1.000000e+00  1.000000e+00    0.000000e+00   \n",
       "25%          1.0  2.384409e+06    5.000000e+00  5.276000e+03    0.000000e+00   \n",
       "50%          1.0  2.386097e+06    1.000000e+01  5.524000e+03    1.000000e+00   \n",
       "75%          1.0  2.393037e+06    1.400000e+01  6.380000e+03    1.000000e+00   \n",
       "max          1.0  2.776543e+06    3.200000e+01  8.460100e+04    1.000000e+00   \n",
       "\n",
       "       is_composition  images_number     search_id  search_position  \\\n",
       "count    1.330665e+06   1.330665e+06  1.171666e+06     1.171666e+06   \n",
       "mean     8.963616e-01   1.399061e+00  7.739882e+02     3.920017e+02   \n",
       "std      3.047910e-01   1.121188e+00  8.388151e+00     5.120790e+02   \n",
       "min      0.000000e+00   0.000000e+00  7.610000e+02     1.000000e+00   \n",
       "25%      1.000000e+00   1.000000e+00  7.670000e+02     4.600000e+01   \n",
       "50%      1.000000e+00   1.000000e+00  7.740000e+02     1.750000e+02   \n",
       "75%      1.000000e+00   2.000000e+00  7.810000e+02     5.780000e+02   \n",
       "max      1.000000e+00   2.100000e+01  7.890000e+02     4.111000e+03   \n",
       "\n",
       "        category_id  category_position          votes         rating  \\\n",
       "count  1.330665e+06       1.330665e+06  409951.000000  383936.000000   \n",
       "mean   5.852551e+01       2.817172e+02       4.947933    2691.096172   \n",
       "std    2.464777e+00       6.208290e+02      14.019346   10625.279767   \n",
       "min    5.500000e+01       1.000000e+00       0.000000       0.000000   \n",
       "25%    5.500000e+01       4.100000e+01       0.000000       0.000000   \n",
       "50%    6.000000e+01       9.000000e+01       0.000000     300.000000   \n",
       "75%    6.000000e+01       2.360000e+02       4.000000     500.000000   \n",
       "max    6.100000e+01       8.862000e+03     459.000000   50000.000000   \n",
       "\n",
       "       video_availability  availability  regular_price  discount_price  \\\n",
       "count        1.330665e+06  1.330665e+06  169269.000000    1.098376e+06   \n",
       "mean         1.603709e-03  7.870313e-01   32345.191358    3.003183e+04   \n",
       "std          4.001423e-02  4.094059e-01   39993.859064    4.502294e+04   \n",
       "min          0.000000e+00  0.000000e+00      46.000000    1.100000e+01   \n",
       "25%          0.000000e+00  1.000000e+00   12999.000000    1.169900e+04   \n",
       "50%          0.000000e+00  1.000000e+00   20045.000000    1.699900e+04   \n",
       "75%          0.000000e+00  1.000000e+00   33000.000000    2.800000e+04   \n",
       "max          1.000000e+00  1.000000e+00  700000.000000    7.659000e+05   \n",
       "\n",
       "             weight  \n",
       "count  1.249949e+06  \n",
       "mean   3.741596e+02  \n",
       "std    9.736709e+02  \n",
       "min    0.000000e+00  \n",
       "25%    1.400000e+02  \n",
       "50%    2.000000e+02  \n",
       "75%    3.000000e+02  \n",
       "max    2.280000e+04  "
      ]
     },
     "execution_count": 4,
     "metadata": {},
     "output_type": "execute_result"
    }
   ],
   "source": [
    "df.describe()"
   ]
  },
  {
   "cell_type": "markdown",
   "id": "84c6ed4d",
   "metadata": {},
   "source": [
    "## 1. Deleting duplicates"
   ]
  },
  {
   "cell_type": "code",
   "execution_count": 5,
   "id": "df86257b",
   "metadata": {},
   "outputs": [
    {
     "data": {
      "text/plain": [
       "(981285, 19)"
      ]
     },
     "execution_count": 5,
     "metadata": {},
     "output_type": "execute_result"
    }
   ],
   "source": [
    "# 1. Due to the fact that the data is time-dependent, deletion will be done by the 'date' column.\n",
    "# 2. The deletion must also include 'local_id' (product) and 'marketplace_id' (marketplace) codes.\n",
    "# 3. The 'search_id' and 'category_id' fields should also be included, as there may be \n",
    "# multiple searches ('search_id') and categories ('category_id') for one product. \n",
    "# (Adding any more columns does not increase/decrease the number of duplicates removed, \n",
    "# which means that this set is optimal for the 'subset' argument)\n",
    "\n",
    "# Убираем дубликаты \n",
    "df.drop_duplicates(subset=['date','local_id','search_id', 'marketplace_id', 'category_id'], inplace = True)\n",
    "df.shape"
   ]
  },
  {
   "cell_type": "markdown",
   "id": "f796ee73",
   "metadata": {},
   "source": [
    "In total, our sample size is 981,285 observations"
   ]
  },
  {
   "cell_type": "markdown",
   "id": "182d4424",
   "metadata": {},
   "source": [
    "## 2. Anomalies"
   ]
  },
  {
   "cell_type": "code",
   "execution_count": 6,
   "id": "e1bc6591",
   "metadata": {},
   "outputs": [
    {
     "data": {
      "text/plain": [
       "(array([1, 0]),\n",
       " array([1, 0]),\n",
       " array([ 1,  7,  2,  5,  3,  6,  4, 10,  8,  9,  0, 12, 11, 14, 21]),\n",
       " array([0, 1]))"
      ]
     },
     "execution_count": 6,
     "metadata": {},
     "output_type": "execute_result"
    }
   ],
   "source": [
    "# Identifying anomalies associated with typos and data errors\n",
    "df['is_description'].unique(), df['is_composition'].unique(), df['images_number'].unique(), df['video_availability'].unique()\n",
    "# As we can see, the columns have clearly labeled integer values"
   ]
  },
  {
   "cell_type": "code",
   "execution_count": 7,
   "id": "bde9b3a7",
   "metadata": {},
   "outputs": [
    {
     "data": {
      "text/plain": [
       "(array([770.,  nan, 783., 764., 766., 774., 773., 777., 771., 768., 779.,\n",
       "        765., 778., 789., 788., 782., 781., 767., 761., 780., 786., 784.,\n",
       "        769., 762., 763., 776., 772., 775., 785., 787.]),\n",
       " array([55, 59, 60, 61]))"
      ]
     },
     "execution_count": 7,
     "metadata": {},
     "output_type": "execute_result"
    }
   ],
   "source": [
    "df['search_id'].unique(), df['category_id'].unique()\n",
    "# The search query and category columns also have no weird values"
   ]
  },
  {
   "cell_type": "code",
   "execution_count": 8,
   "id": "bc474916",
   "metadata": {
    "scrolled": true
   },
   "outputs": [
    {
     "data": {
      "text/plain": [
       "array([[<AxesSubplot:title={'center':'search_position'}>,\n",
       "        <AxesSubplot:title={'center':'category_position'}>]], dtype=object)"
      ]
     },
     "execution_count": 8,
     "metadata": {},
     "output_type": "execute_result"
    },
    {
     "data": {
      "image/png": "[encoded data removed]",
      "text/plain": [
       "<Figure size 640x480 with 2 Axes>"
      ]
     },
     "metadata": {},
     "output_type": "display_data"
    }
   ],
   "source": [
    "# The category_position column has a wide range of up to 8000.\n",
    "df[['search_position','category_position']].hist(bins=10)"
   ]
  },
  {
   "cell_type": "code",
   "execution_count": 9,
   "id": "60098dc7",
   "metadata": {
    "scrolled": true
   },
   "outputs": [
    {
     "data": {
      "text/plain": [
       "<AxesSubplot:>"
      ]
     },
     "execution_count": 9,
     "metadata": {},
     "output_type": "execute_result"
    },
    {
     "data": {
      "image/png": "[encoded data removed]",
      "text/plain": [
       "<Figure size 640x480 with 1 Axes>"
      ]
     },
     "metadata": {},
     "output_type": "display_data"
    }
   ],
   "source": [
    "# Let's check for the presence of outliners with a boxplot.\n",
    "df.boxplot(column=['category_position'])\n",
    "# You can see that the data is generally centered around the values [0; 4000), but there are some cases that are \n",
    "# very different, and are located at positions around (7800; 8500)."
   ]
  },
  {
   "cell_type": "code",
   "execution_count": 10,
   "id": "26c3d69f",
   "metadata": {},
   "outputs": [
    {
     "data": {
      "text/plain": [
       "(array([55]), array([32]))"
      ]
     },
     "execution_count": 10,
     "metadata": {},
     "output_type": "execute_result"
    }
   ],
   "source": [
    "# Let's see which category and which marketplace owns the product cards that are ranked so far down in the category\n",
    "df[df['category_position'] > 6000]['category_id'].unique(), df[df['category_position'] > 6000]['marketplace_id'].unique()"
   ]
  },
  {
   "cell_type": "markdown",
   "id": "a9edbfd5",
   "metadata": {},
   "source": [
    "We found out that all these product cards belong to marketplace 32, category 55, which indicates that there are some issues with showing product cards on this marketplace in category 55. "
   ]
  },
  {
   "cell_type": "code",
   "execution_count": 11,
   "id": "4623afde",
   "metadata": {
    "scrolled": false
   },
   "outputs": [
    {
     "data": {
      "text/plain": [
       "array([1, 0])"
      ]
     },
     "execution_count": 11,
     "metadata": {},
     "output_type": "execute_result"
    },
    {
     "data": {
      "image/png": "[encoded data removed]",
      "text/plain": [
       "<Figure size 640x480 with 2 Axes>"
      ]
     },
     "metadata": {},
     "output_type": "display_data"
    }
   ],
   "source": [
    "# Let's consider the next set of variables\n",
    "df[[['votes','rating']].hist(bins=50)\n",
    "# Checking the values of the availability variable (only values 1 and 0 are expected)\n",
    "df['availability'].unique()"
   ]
  },
  {
   "cell_type": "code",
   "execution_count": 12,
   "id": "aab4a63a",
   "metadata": {
    "scrolled": true
   },
   "outputs": [
    {
     "data": {
      "text/plain": [
       "<AxesSubplot:>"
      ]
     },
     "execution_count": 12,
     "metadata": {},
     "output_type": "execute_result"
    },
    {
     "data": {
      "image/png": "[encoded data removed]",
      "text/plain": [
       "<Figure size 640x480 with 1 Axes>"
      ]
     },
     "metadata": {},
     "output_type": "display_data"
    }
   ],
   "source": [
    "# The votes variable (number of reviews) has quite a large range \n",
    "df.boxplot(column=['votes'])"
   ]
  },
  {
   "cell_type": "code",
   "execution_count": 13,
   "id": "4ccb1995",
   "metadata": {
    "scrolled": true
   },
   "outputs": [
    {
     "data": {
      "text/html": [
       "<div>\n",
       "<style scoped>\n",
       "    .dataframe tbody tr th:only-of-type {\n",
       "        vertical-align: middle;\n",
       "    }\n",
       "\n",
       "    .dataframe tbody tr th {\n",
       "        vertical-align: top;\n",
       "    }\n",
       "\n",
       "    .dataframe thead th {\n",
       "        text-align: right;\n",
       "    }\n",
       "</style>\n",
       "<table border=\"1\" class=\"dataframe\">\n",
       "  <thead>\n",
       "    <tr style=\"text-align: right;\">\n",
       "      <th></th>\n",
       "      <th>date</th>\n",
       "      <th>region_id</th>\n",
       "      <th>local_id</th>\n",
       "      <th>marketplace_id</th>\n",
       "      <th>brand_id</th>\n",
       "      <th>is_description</th>\n",
       "      <th>is_composition</th>\n",
       "      <th>images_number</th>\n",
       "      <th>search_id</th>\n",
       "      <th>search_position</th>\n",
       "      <th>category_id</th>\n",
       "      <th>category_position</th>\n",
       "      <th>votes</th>\n",
       "      <th>rating</th>\n",
       "      <th>video_availability</th>\n",
       "      <th>availability</th>\n",
       "      <th>regular_price</th>\n",
       "      <th>discount_price</th>\n",
       "      <th>weight</th>\n",
       "    </tr>\n",
       "  </thead>\n",
       "  <tbody>\n",
       "    <tr>\n",
       "      <th>46850</th>\n",
       "      <td>2022-07-01</td>\n",
       "      <td>1</td>\n",
       "      <td>2445358</td>\n",
       "      <td>32</td>\n",
       "      <td>5509.0</td>\n",
       "      <td>0</td>\n",
       "      <td>1</td>\n",
       "      <td>0</td>\n",
       "      <td>770.0</td>\n",
       "      <td>657.0</td>\n",
       "      <td>55</td>\n",
       "      <td>752</td>\n",
       "      <td>459.0</td>\n",
       "      <td>500.0</td>\n",
       "      <td>0</td>\n",
       "      <td>0</td>\n",
       "      <td>NaN</td>\n",
       "      <td>NaN</td>\n",
       "      <td>NaN</td>\n",
       "    </tr>\n",
       "    <tr>\n",
       "      <th>96553</th>\n",
       "      <td>2022-07-02</td>\n",
       "      <td>1</td>\n",
       "      <td>2445358</td>\n",
       "      <td>32</td>\n",
       "      <td>5509.0</td>\n",
       "      <td>0</td>\n",
       "      <td>1</td>\n",
       "      <td>0</td>\n",
       "      <td>770.0</td>\n",
       "      <td>2392.0</td>\n",
       "      <td>55</td>\n",
       "      <td>752</td>\n",
       "      <td>459.0</td>\n",
       "      <td>500.0</td>\n",
       "      <td>0</td>\n",
       "      <td>0</td>\n",
       "      <td>NaN</td>\n",
       "      <td>NaN</td>\n",
       "      <td>NaN</td>\n",
       "    </tr>\n",
       "    <tr>\n",
       "      <th>145552</th>\n",
       "      <td>2022-07-03</td>\n",
       "      <td>1</td>\n",
       "      <td>2445358</td>\n",
       "      <td>32</td>\n",
       "      <td>5509.0</td>\n",
       "      <td>0</td>\n",
       "      <td>1</td>\n",
       "      <td>0</td>\n",
       "      <td>770.0</td>\n",
       "      <td>3214.0</td>\n",
       "      <td>55</td>\n",
       "      <td>486</td>\n",
       "      <td>459.0</td>\n",
       "      <td>500.0</td>\n",
       "      <td>0</td>\n",
       "      <td>0</td>\n",
       "      <td>NaN</td>\n",
       "      <td>NaN</td>\n",
       "      <td>NaN</td>\n",
       "    </tr>\n",
       "    <tr>\n",
       "      <th>195968</th>\n",
       "      <td>2022-07-04</td>\n",
       "      <td>1</td>\n",
       "      <td>2445358</td>\n",
       "      <td>32</td>\n",
       "      <td>5509.0</td>\n",
       "      <td>0</td>\n",
       "      <td>1</td>\n",
       "      <td>0</td>\n",
       "      <td>770.0</td>\n",
       "      <td>2171.0</td>\n",
       "      <td>55</td>\n",
       "      <td>508</td>\n",
       "      <td>459.0</td>\n",
       "      <td>500.0</td>\n",
       "      <td>0</td>\n",
       "      <td>0</td>\n",
       "      <td>NaN</td>\n",
       "      <td>NaN</td>\n",
       "      <td>NaN</td>\n",
       "    </tr>\n",
       "    <tr>\n",
       "      <th>245825</th>\n",
       "      <td>2022-07-05</td>\n",
       "      <td>1</td>\n",
       "      <td>2445358</td>\n",
       "      <td>32</td>\n",
       "      <td>5509.0</td>\n",
       "      <td>0</td>\n",
       "      <td>1</td>\n",
       "      <td>0</td>\n",
       "      <td>770.0</td>\n",
       "      <td>2171.0</td>\n",
       "      <td>55</td>\n",
       "      <td>1045</td>\n",
       "      <td>459.0</td>\n",
       "      <td>500.0</td>\n",
       "      <td>0</td>\n",
       "      <td>0</td>\n",
       "      <td>NaN</td>\n",
       "      <td>NaN</td>\n",
       "      <td>NaN</td>\n",
       "    </tr>\n",
       "    <tr>\n",
       "      <th>294073</th>\n",
       "      <td>2022-07-06</td>\n",
       "      <td>1</td>\n",
       "      <td>2445358</td>\n",
       "      <td>32</td>\n",
       "      <td>5509.0</td>\n",
       "      <td>0</td>\n",
       "      <td>1</td>\n",
       "      <td>0</td>\n",
       "      <td>NaN</td>\n",
       "      <td>NaN</td>\n",
       "      <td>55</td>\n",
       "      <td>508</td>\n",
       "      <td>459.0</td>\n",
       "      <td>500.0</td>\n",
       "      <td>0</td>\n",
       "      <td>0</td>\n",
       "      <td>NaN</td>\n",
       "      <td>NaN</td>\n",
       "      <td>NaN</td>\n",
       "    </tr>\n",
       "    <tr>\n",
       "      <th>342215</th>\n",
       "      <td>2022-07-07</td>\n",
       "      <td>1</td>\n",
       "      <td>2445358</td>\n",
       "      <td>32</td>\n",
       "      <td>5509.0</td>\n",
       "      <td>0</td>\n",
       "      <td>1</td>\n",
       "      <td>0</td>\n",
       "      <td>770.0</td>\n",
       "      <td>2392.0</td>\n",
       "      <td>55</td>\n",
       "      <td>1045</td>\n",
       "      <td>459.0</td>\n",
       "      <td>500.0</td>\n",
       "      <td>0</td>\n",
       "      <td>0</td>\n",
       "      <td>NaN</td>\n",
       "      <td>NaN</td>\n",
       "      <td>NaN</td>\n",
       "    </tr>\n",
       "    <tr>\n",
       "      <th>390168</th>\n",
       "      <td>2022-07-08</td>\n",
       "      <td>1</td>\n",
       "      <td>2445358</td>\n",
       "      <td>32</td>\n",
       "      <td>5509.0</td>\n",
       "      <td>0</td>\n",
       "      <td>1</td>\n",
       "      <td>0</td>\n",
       "      <td>770.0</td>\n",
       "      <td>3016.0</td>\n",
       "      <td>55</td>\n",
       "      <td>1045</td>\n",
       "      <td>459.0</td>\n",
       "      <td>500.0</td>\n",
       "      <td>0</td>\n",
       "      <td>0</td>\n",
       "      <td>NaN</td>\n",
       "      <td>NaN</td>\n",
       "      <td>NaN</td>\n",
       "    </tr>\n",
       "    <tr>\n",
       "      <th>435014</th>\n",
       "      <td>2022-07-09</td>\n",
       "      <td>1</td>\n",
       "      <td>2445358</td>\n",
       "      <td>32</td>\n",
       "      <td>5509.0</td>\n",
       "      <td>0</td>\n",
       "      <td>1</td>\n",
       "      <td>0</td>\n",
       "      <td>770.0</td>\n",
       "      <td>3214.0</td>\n",
       "      <td>55</td>\n",
       "      <td>752</td>\n",
       "      <td>459.0</td>\n",
       "      <td>500.0</td>\n",
       "      <td>0</td>\n",
       "      <td>0</td>\n",
       "      <td>NaN</td>\n",
       "      <td>NaN</td>\n",
       "      <td>NaN</td>\n",
       "    </tr>\n",
       "    <tr>\n",
       "      <th>483374</th>\n",
       "      <td>2022-07-10</td>\n",
       "      <td>1</td>\n",
       "      <td>2445358</td>\n",
       "      <td>32</td>\n",
       "      <td>5509.0</td>\n",
       "      <td>0</td>\n",
       "      <td>1</td>\n",
       "      <td>0</td>\n",
       "      <td>NaN</td>\n",
       "      <td>NaN</td>\n",
       "      <td>55</td>\n",
       "      <td>486</td>\n",
       "      <td>459.0</td>\n",
       "      <td>500.0</td>\n",
       "      <td>0</td>\n",
       "      <td>0</td>\n",
       "      <td>NaN</td>\n",
       "      <td>NaN</td>\n",
       "      <td>NaN</td>\n",
       "    </tr>\n",
       "    <tr>\n",
       "      <th>524201</th>\n",
       "      <td>2022-07-11</td>\n",
       "      <td>1</td>\n",
       "      <td>2445358</td>\n",
       "      <td>32</td>\n",
       "      <td>5509.0</td>\n",
       "      <td>0</td>\n",
       "      <td>1</td>\n",
       "      <td>0</td>\n",
       "      <td>770.0</td>\n",
       "      <td>3214.0</td>\n",
       "      <td>55</td>\n",
       "      <td>1045</td>\n",
       "      <td>459.0</td>\n",
       "      <td>500.0</td>\n",
       "      <td>0</td>\n",
       "      <td>0</td>\n",
       "      <td>NaN</td>\n",
       "      <td>NaN</td>\n",
       "      <td>NaN</td>\n",
       "    </tr>\n",
       "    <tr>\n",
       "      <th>569705</th>\n",
       "      <td>2022-07-12</td>\n",
       "      <td>1</td>\n",
       "      <td>2445358</td>\n",
       "      <td>32</td>\n",
       "      <td>5509.0</td>\n",
       "      <td>0</td>\n",
       "      <td>1</td>\n",
       "      <td>0</td>\n",
       "      <td>770.0</td>\n",
       "      <td>3214.0</td>\n",
       "      <td>55</td>\n",
       "      <td>1045</td>\n",
       "      <td>459.0</td>\n",
       "      <td>500.0</td>\n",
       "      <td>0</td>\n",
       "      <td>0</td>\n",
       "      <td>NaN</td>\n",
       "      <td>NaN</td>\n",
       "      <td>NaN</td>\n",
       "    </tr>\n",
       "    <tr>\n",
       "      <th>615246</th>\n",
       "      <td>2022-07-13</td>\n",
       "      <td>1</td>\n",
       "      <td>2445358</td>\n",
       "      <td>32</td>\n",
       "      <td>5509.0</td>\n",
       "      <td>0</td>\n",
       "      <td>1</td>\n",
       "      <td>0</td>\n",
       "      <td>770.0</td>\n",
       "      <td>2991.0</td>\n",
       "      <td>55</td>\n",
       "      <td>752</td>\n",
       "      <td>459.0</td>\n",
       "      <td>500.0</td>\n",
       "      <td>0</td>\n",
       "      <td>0</td>\n",
       "      <td>NaN</td>\n",
       "      <td>NaN</td>\n",
       "      <td>NaN</td>\n",
       "    </tr>\n",
       "    <tr>\n",
       "      <th>699432</th>\n",
       "      <td>2022-07-15</td>\n",
       "      <td>1</td>\n",
       "      <td>2445358</td>\n",
       "      <td>32</td>\n",
       "      <td>5509.0</td>\n",
       "      <td>0</td>\n",
       "      <td>1</td>\n",
       "      <td>0</td>\n",
       "      <td>770.0</td>\n",
       "      <td>2791.0</td>\n",
       "      <td>55</td>\n",
       "      <td>1045</td>\n",
       "      <td>423.0</td>\n",
       "      <td>50000.0</td>\n",
       "      <td>0</td>\n",
       "      <td>0</td>\n",
       "      <td>NaN</td>\n",
       "      <td>NaN</td>\n",
       "      <td>NaN</td>\n",
       "    </tr>\n",
       "    <tr>\n",
       "      <th>745575</th>\n",
       "      <td>2022-07-16</td>\n",
       "      <td>1</td>\n",
       "      <td>2445358</td>\n",
       "      <td>32</td>\n",
       "      <td>5509.0</td>\n",
       "      <td>0</td>\n",
       "      <td>1</td>\n",
       "      <td>0</td>\n",
       "      <td>NaN</td>\n",
       "      <td>NaN</td>\n",
       "      <td>55</td>\n",
       "      <td>486</td>\n",
       "      <td>423.0</td>\n",
       "      <td>50000.0</td>\n",
       "      <td>0</td>\n",
       "      <td>0</td>\n",
       "      <td>NaN</td>\n",
       "      <td>NaN</td>\n",
       "      <td>NaN</td>\n",
       "    </tr>\n",
       "    <tr>\n",
       "      <th>787685</th>\n",
       "      <td>2022-07-17</td>\n",
       "      <td>1</td>\n",
       "      <td>2445358</td>\n",
       "      <td>32</td>\n",
       "      <td>5509.0</td>\n",
       "      <td>0</td>\n",
       "      <td>1</td>\n",
       "      <td>0</td>\n",
       "      <td>770.0</td>\n",
       "      <td>2171.0</td>\n",
       "      <td>55</td>\n",
       "      <td>1045</td>\n",
       "      <td>423.0</td>\n",
       "      <td>50000.0</td>\n",
       "      <td>0</td>\n",
       "      <td>0</td>\n",
       "      <td>NaN</td>\n",
       "      <td>NaN</td>\n",
       "      <td>NaN</td>\n",
       "    </tr>\n",
       "    <tr>\n",
       "      <th>831415</th>\n",
       "      <td>2022-07-18</td>\n",
       "      <td>1</td>\n",
       "      <td>2445358</td>\n",
       "      <td>32</td>\n",
       "      <td>5509.0</td>\n",
       "      <td>0</td>\n",
       "      <td>1</td>\n",
       "      <td>0</td>\n",
       "      <td>NaN</td>\n",
       "      <td>NaN</td>\n",
       "      <td>55</td>\n",
       "      <td>1045</td>\n",
       "      <td>423.0</td>\n",
       "      <td>50000.0</td>\n",
       "      <td>0</td>\n",
       "      <td>0</td>\n",
       "      <td>NaN</td>\n",
       "      <td>NaN</td>\n",
       "      <td>NaN</td>\n",
       "    </tr>\n",
       "    <tr>\n",
       "      <th>1160441</th>\n",
       "      <td>2022-07-26</td>\n",
       "      <td>1</td>\n",
       "      <td>2445358</td>\n",
       "      <td>32</td>\n",
       "      <td>5509.0</td>\n",
       "      <td>0</td>\n",
       "      <td>1</td>\n",
       "      <td>0</td>\n",
       "      <td>NaN</td>\n",
       "      <td>NaN</td>\n",
       "      <td>55</td>\n",
       "      <td>1520</td>\n",
       "      <td>423.0</td>\n",
       "      <td>50000.0</td>\n",
       "      <td>0</td>\n",
       "      <td>0</td>\n",
       "      <td>NaN</td>\n",
       "      <td>NaN</td>\n",
       "      <td>NaN</td>\n",
       "    </tr>\n",
       "    <tr>\n",
       "      <th>1202538</th>\n",
       "      <td>2022-07-27</td>\n",
       "      <td>1</td>\n",
       "      <td>2445358</td>\n",
       "      <td>32</td>\n",
       "      <td>5509.0</td>\n",
       "      <td>0</td>\n",
       "      <td>1</td>\n",
       "      <td>0</td>\n",
       "      <td>NaN</td>\n",
       "      <td>NaN</td>\n",
       "      <td>55</td>\n",
       "      <td>1355</td>\n",
       "      <td>423.0</td>\n",
       "      <td>50000.0</td>\n",
       "      <td>0</td>\n",
       "      <td>0</td>\n",
       "      <td>NaN</td>\n",
       "      <td>NaN</td>\n",
       "      <td>NaN</td>\n",
       "    </tr>\n",
       "    <tr>\n",
       "      <th>1279379</th>\n",
       "      <td>2022-07-29</td>\n",
       "      <td>1</td>\n",
       "      <td>2445358</td>\n",
       "      <td>32</td>\n",
       "      <td>5509.0</td>\n",
       "      <td>0</td>\n",
       "      <td>1</td>\n",
       "      <td>0</td>\n",
       "      <td>770.0</td>\n",
       "      <td>2672.0</td>\n",
       "      <td>55</td>\n",
       "      <td>1900</td>\n",
       "      <td>430.0</td>\n",
       "      <td>50000.0</td>\n",
       "      <td>0</td>\n",
       "      <td>0</td>\n",
       "      <td>NaN</td>\n",
       "      <td>NaN</td>\n",
       "      <td>NaN</td>\n",
       "    </tr>\n",
       "    <tr>\n",
       "      <th>1322460</th>\n",
       "      <td>2022-07-30</td>\n",
       "      <td>1</td>\n",
       "      <td>2445358</td>\n",
       "      <td>32</td>\n",
       "      <td>5509.0</td>\n",
       "      <td>0</td>\n",
       "      <td>1</td>\n",
       "      <td>0</td>\n",
       "      <td>770.0</td>\n",
       "      <td>2672.0</td>\n",
       "      <td>55</td>\n",
       "      <td>1355</td>\n",
       "      <td>430.0</td>\n",
       "      <td>50000.0</td>\n",
       "      <td>0</td>\n",
       "      <td>0</td>\n",
       "      <td>NaN</td>\n",
       "      <td>NaN</td>\n",
       "      <td>NaN</td>\n",
       "    </tr>\n",
       "  </tbody>\n",
       "</table>\n",
       "</div>"
      ],
      "text/plain": [
       "               date  region_id  local_id  marketplace_id  brand_id  \\\n",
       "46850    2022-07-01          1   2445358              32    5509.0   \n",
       "96553    2022-07-02          1   2445358              32    5509.0   \n",
       "145552   2022-07-03          1   2445358              32    5509.0   \n",
       "195968   2022-07-04          1   2445358              32    5509.0   \n",
       "245825   2022-07-05          1   2445358              32    5509.0   \n",
       "294073   2022-07-06          1   2445358              32    5509.0   \n",
       "342215   2022-07-07          1   2445358              32    5509.0   \n",
       "390168   2022-07-08          1   2445358              32    5509.0   \n",
       "435014   2022-07-09          1   2445358              32    5509.0   \n",
       "483374   2022-07-10          1   2445358              32    5509.0   \n",
       "524201   2022-07-11          1   2445358              32    5509.0   \n",
       "569705   2022-07-12          1   2445358              32    5509.0   \n",
       "615246   2022-07-13          1   2445358              32    5509.0   \n",
       "699432   2022-07-15          1   2445358              32    5509.0   \n",
       "745575   2022-07-16          1   2445358              32    5509.0   \n",
       "787685   2022-07-17          1   2445358              32    5509.0   \n",
       "831415   2022-07-18          1   2445358              32    5509.0   \n",
       "1160441  2022-07-26          1   2445358              32    5509.0   \n",
       "1202538  2022-07-27          1   2445358              32    5509.0   \n",
       "1279379  2022-07-29          1   2445358              32    5509.0   \n",
       "1322460  2022-07-30          1   2445358              32    5509.0   \n",
       "\n",
       "         is_description  is_composition  images_number  search_id  \\\n",
       "46850                 0               1              0      770.0   \n",
       "96553                 0               1              0      770.0   \n",
       "145552                0               1              0      770.0   \n",
       "195968                0               1              0      770.0   \n",
       "245825                0               1              0      770.0   \n",
       "294073                0               1              0        NaN   \n",
       "342215                0               1              0      770.0   \n",
       "390168                0               1              0      770.0   \n",
       "435014                0               1              0      770.0   \n",
       "483374                0               1              0        NaN   \n",
       "524201                0               1              0      770.0   \n",
       "569705                0               1              0      770.0   \n",
       "615246                0               1              0      770.0   \n",
       "699432                0               1              0      770.0   \n",
       "745575                0               1              0        NaN   \n",
       "787685                0               1              0      770.0   \n",
       "831415                0               1              0        NaN   \n",
       "1160441               0               1              0        NaN   \n",
       "1202538               0               1              0        NaN   \n",
       "1279379               0               1              0      770.0   \n",
       "1322460               0               1              0      770.0   \n",
       "\n",
       "         search_position  category_id  category_position  votes   rating  \\\n",
       "46850              657.0           55                752  459.0    500.0   \n",
       "96553             2392.0           55                752  459.0    500.0   \n",
       "145552            3214.0           55                486  459.0    500.0   \n",
       "195968            2171.0           55                508  459.0    500.0   \n",
       "245825            2171.0           55               1045  459.0    500.0   \n",
       "294073               NaN           55                508  459.0    500.0   \n",
       "342215            2392.0           55               1045  459.0    500.0   \n",
       "390168            3016.0           55               1045  459.0    500.0   \n",
       "435014            3214.0           55                752  459.0    500.0   \n",
       "483374               NaN           55                486  459.0    500.0   \n",
       "524201            3214.0           55               1045  459.0    500.0   \n",
       "569705            3214.0           55               1045  459.0    500.0   \n",
       "615246            2991.0           55                752  459.0    500.0   \n",
       "699432            2791.0           55               1045  423.0  50000.0   \n",
       "745575               NaN           55                486  423.0  50000.0   \n",
       "787685            2171.0           55               1045  423.0  50000.0   \n",
       "831415               NaN           55               1045  423.0  50000.0   \n",
       "1160441              NaN           55               1520  423.0  50000.0   \n",
       "1202538              NaN           55               1355  423.0  50000.0   \n",
       "1279379           2672.0           55               1900  430.0  50000.0   \n",
       "1322460           2672.0           55               1355  430.0  50000.0   \n",
       "\n",
       "         video_availability  availability  regular_price  discount_price  \\\n",
       "46850                     0             0            NaN             NaN   \n",
       "96553                     0             0            NaN             NaN   \n",
       "145552                    0             0            NaN             NaN   \n",
       "195968                    0             0            NaN             NaN   \n",
       "245825                    0             0            NaN             NaN   \n",
       "294073                    0             0            NaN             NaN   \n",
       "342215                    0             0            NaN             NaN   \n",
       "390168                    0             0            NaN             NaN   \n",
       "435014                    0             0            NaN             NaN   \n",
       "483374                    0             0            NaN             NaN   \n",
       "524201                    0             0            NaN             NaN   \n",
       "569705                    0             0            NaN             NaN   \n",
       "615246                    0             0            NaN             NaN   \n",
       "699432                    0             0            NaN             NaN   \n",
       "745575                    0             0            NaN             NaN   \n",
       "787685                    0             0            NaN             NaN   \n",
       "831415                    0             0            NaN             NaN   \n",
       "1160441                   0             0            NaN             NaN   \n",
       "1202538                   0             0            NaN             NaN   \n",
       "1279379                   0             0            NaN             NaN   \n",
       "1322460                   0             0            NaN             NaN   \n",
       "\n",
       "         weight  \n",
       "46850       NaN  \n",
       "96553       NaN  \n",
       "145552      NaN  \n",
       "195968      NaN  \n",
       "245825      NaN  \n",
       "294073      NaN  \n",
       "342215      NaN  \n",
       "390168      NaN  \n",
       "435014      NaN  \n",
       "483374      NaN  \n",
       "524201      NaN  \n",
       "569705      NaN  \n",
       "615246      NaN  \n",
       "699432      NaN  \n",
       "745575      NaN  \n",
       "787685      NaN  \n",
       "831415      NaN  \n",
       "1160441     NaN  \n",
       "1202538     NaN  \n",
       "1279379     NaN  \n",
       "1322460     NaN  "
      ]
     },
     "execution_count": 13,
     "metadata": {},
     "output_type": "execute_result"
    }
   ],
   "source": [
    "# Starting with votes > 340, products with more votes appear. However is_description = 0 and availability = 0. \n",
    "# Also price columns are empty (NaN)\n",
    "\n",
    "df[df.votes > 340]"
   ]
  },
  {
   "cell_type": "code",
   "execution_count": 14,
   "id": "84789eb4",
   "metadata": {},
   "outputs": [
    {
     "data": {
      "text/plain": [
       "(array([32]), array([55]))"
      ]
     },
     "execution_count": 14,
     "metadata": {},
     "output_type": "execute_result"
    }
   ],
   "source": [
    "df[df.votes > 340]['marketplace_id'].unique(), df[df.votes > 340]['category_id'].unique()"
   ]
  },
  {
   "cell_type": "markdown",
   "id": "82a55958",
   "metadata": {},
   "source": [
    "These “empty” product cards again belong to Marketplace 32, category 55, which again indicates a problem with product cards. Despite a large number of reviews, the product and its price are not available. "
   ]
  },
  {
   "cell_type": "code",
   "execution_count": 15,
   "id": "82001ed2",
   "metadata": {
    "scrolled": true
   },
   "outputs": [
    {
     "data": {
      "text/plain": [
       "<AxesSubplot:>"
      ]
     },
     "execution_count": 15,
     "metadata": {},
     "output_type": "execute_result"
    },
    {
     "data": {
      "image/png": "[encoded data removed]",
      "text/plain": [
       "<Figure size 640x480 with 1 Axes>"
      ]
     },
     "metadata": {},
     "output_type": "display_data"
    }
   ],
   "source": [
    "# Let's go to the rating variable and find the outliers\n",
    "df.boxplot(column=['rating'])"
   ]
  },
  {
   "cell_type": "code",
   "execution_count": 16,
   "id": "d241d4bf",
   "metadata": {},
   "outputs": [
    {
     "data": {
      "text/html": [
       "<div>\n",
       "<style scoped>\n",
       "    .dataframe tbody tr th:only-of-type {\n",
       "        vertical-align: middle;\n",
       "    }\n",
       "\n",
       "    .dataframe tbody tr th {\n",
       "        vertical-align: top;\n",
       "    }\n",
       "\n",
       "    .dataframe thead th {\n",
       "        text-align: right;\n",
       "    }\n",
       "</style>\n",
       "<table border=\"1\" class=\"dataframe\">\n",
       "  <thead>\n",
       "    <tr style=\"text-align: right;\">\n",
       "      <th></th>\n",
       "      <th>date</th>\n",
       "      <th>region_id</th>\n",
       "      <th>local_id</th>\n",
       "      <th>marketplace_id</th>\n",
       "      <th>brand_id</th>\n",
       "      <th>is_description</th>\n",
       "      <th>is_composition</th>\n",
       "      <th>images_number</th>\n",
       "      <th>search_id</th>\n",
       "      <th>search_position</th>\n",
       "      <th>category_id</th>\n",
       "      <th>category_position</th>\n",
       "      <th>votes</th>\n",
       "      <th>rating</th>\n",
       "      <th>video_availability</th>\n",
       "      <th>availability</th>\n",
       "      <th>regular_price</th>\n",
       "      <th>discount_price</th>\n",
       "      <th>weight</th>\n",
       "    </tr>\n",
       "  </thead>\n",
       "  <tbody>\n",
       "    <tr>\n",
       "      <th>646421</th>\n",
       "      <td>2022-07-14</td>\n",
       "      <td>1</td>\n",
       "      <td>2390014</td>\n",
       "      <td>32</td>\n",
       "      <td>5510.0</td>\n",
       "      <td>1</td>\n",
       "      <td>1</td>\n",
       "      <td>1</td>\n",
       "      <td>762.0</td>\n",
       "      <td>53.0</td>\n",
       "      <td>61</td>\n",
       "      <td>16</td>\n",
       "      <td>24.0</td>\n",
       "      <td>50000.0</td>\n",
       "      <td>0</td>\n",
       "      <td>1</td>\n",
       "      <td>NaN</td>\n",
       "      <td>10400.0</td>\n",
       "      <td>150.0</td>\n",
       "    </tr>\n",
       "    <tr>\n",
       "      <th>646422</th>\n",
       "      <td>2022-07-14</td>\n",
       "      <td>1</td>\n",
       "      <td>2390014</td>\n",
       "      <td>32</td>\n",
       "      <td>5510.0</td>\n",
       "      <td>1</td>\n",
       "      <td>1</td>\n",
       "      <td>1</td>\n",
       "      <td>763.0</td>\n",
       "      <td>49.0</td>\n",
       "      <td>61</td>\n",
       "      <td>16</td>\n",
       "      <td>24.0</td>\n",
       "      <td>50000.0</td>\n",
       "      <td>0</td>\n",
       "      <td>1</td>\n",
       "      <td>NaN</td>\n",
       "      <td>10400.0</td>\n",
       "      <td>150.0</td>\n",
       "    </tr>\n",
       "    <tr>\n",
       "      <th>646423</th>\n",
       "      <td>2022-07-14</td>\n",
       "      <td>1</td>\n",
       "      <td>2390014</td>\n",
       "      <td>32</td>\n",
       "      <td>5510.0</td>\n",
       "      <td>1</td>\n",
       "      <td>1</td>\n",
       "      <td>1</td>\n",
       "      <td>769.0</td>\n",
       "      <td>94.0</td>\n",
       "      <td>61</td>\n",
       "      <td>16</td>\n",
       "      <td>24.0</td>\n",
       "      <td>50000.0</td>\n",
       "      <td>0</td>\n",
       "      <td>1</td>\n",
       "      <td>NaN</td>\n",
       "      <td>10400.0</td>\n",
       "      <td>150.0</td>\n",
       "    </tr>\n",
       "    <tr>\n",
       "      <th>646427</th>\n",
       "      <td>2022-07-14</td>\n",
       "      <td>1</td>\n",
       "      <td>2390016</td>\n",
       "      <td>32</td>\n",
       "      <td>4426.0</td>\n",
       "      <td>0</td>\n",
       "      <td>0</td>\n",
       "      <td>2</td>\n",
       "      <td>762.0</td>\n",
       "      <td>167.0</td>\n",
       "      <td>61</td>\n",
       "      <td>18</td>\n",
       "      <td>18.0</td>\n",
       "      <td>50000.0</td>\n",
       "      <td>0</td>\n",
       "      <td>1</td>\n",
       "      <td>NaN</td>\n",
       "      <td>12100.0</td>\n",
       "      <td>150.0</td>\n",
       "    </tr>\n",
       "    <tr>\n",
       "      <th>646428</th>\n",
       "      <td>2022-07-14</td>\n",
       "      <td>1</td>\n",
       "      <td>2390016</td>\n",
       "      <td>32</td>\n",
       "      <td>4426.0</td>\n",
       "      <td>0</td>\n",
       "      <td>0</td>\n",
       "      <td>2</td>\n",
       "      <td>763.0</td>\n",
       "      <td>163.0</td>\n",
       "      <td>61</td>\n",
       "      <td>18</td>\n",
       "      <td>18.0</td>\n",
       "      <td>50000.0</td>\n",
       "      <td>0</td>\n",
       "      <td>1</td>\n",
       "      <td>NaN</td>\n",
       "      <td>12100.0</td>\n",
       "      <td>150.0</td>\n",
       "    </tr>\n",
       "    <tr>\n",
       "      <th>646429</th>\n",
       "      <td>2022-07-14</td>\n",
       "      <td>1</td>\n",
       "      <td>2390016</td>\n",
       "      <td>32</td>\n",
       "      <td>4426.0</td>\n",
       "      <td>0</td>\n",
       "      <td>0</td>\n",
       "      <td>2</td>\n",
       "      <td>769.0</td>\n",
       "      <td>149.0</td>\n",
       "      <td>61</td>\n",
       "      <td>18</td>\n",
       "      <td>18.0</td>\n",
       "      <td>50000.0</td>\n",
       "      <td>0</td>\n",
       "      <td>1</td>\n",
       "      <td>NaN</td>\n",
       "      <td>12100.0</td>\n",
       "      <td>150.0</td>\n",
       "    </tr>\n",
       "    <tr>\n",
       "      <th>646430</th>\n",
       "      <td>2022-07-14</td>\n",
       "      <td>1</td>\n",
       "      <td>2390017</td>\n",
       "      <td>32</td>\n",
       "      <td>5546.0</td>\n",
       "      <td>0</td>\n",
       "      <td>0</td>\n",
       "      <td>2</td>\n",
       "      <td>762.0</td>\n",
       "      <td>264.0</td>\n",
       "      <td>61</td>\n",
       "      <td>25</td>\n",
       "      <td>31.0</td>\n",
       "      <td>50000.0</td>\n",
       "      <td>0</td>\n",
       "      <td>1</td>\n",
       "      <td>NaN</td>\n",
       "      <td>4600.0</td>\n",
       "      <td>90.0</td>\n",
       "    </tr>\n",
       "    <tr>\n",
       "      <th>646431</th>\n",
       "      <td>2022-07-14</td>\n",
       "      <td>1</td>\n",
       "      <td>2390017</td>\n",
       "      <td>32</td>\n",
       "      <td>5546.0</td>\n",
       "      <td>0</td>\n",
       "      <td>0</td>\n",
       "      <td>2</td>\n",
       "      <td>769.0</td>\n",
       "      <td>304.0</td>\n",
       "      <td>61</td>\n",
       "      <td>25</td>\n",
       "      <td>31.0</td>\n",
       "      <td>50000.0</td>\n",
       "      <td>0</td>\n",
       "      <td>1</td>\n",
       "      <td>NaN</td>\n",
       "      <td>4600.0</td>\n",
       "      <td>90.0</td>\n",
       "    </tr>\n",
       "    <tr>\n",
       "      <th>646432</th>\n",
       "      <td>2022-07-14</td>\n",
       "      <td>1</td>\n",
       "      <td>2390017</td>\n",
       "      <td>32</td>\n",
       "      <td>5546.0</td>\n",
       "      <td>0</td>\n",
       "      <td>0</td>\n",
       "      <td>2</td>\n",
       "      <td>763.0</td>\n",
       "      <td>264.0</td>\n",
       "      <td>61</td>\n",
       "      <td>25</td>\n",
       "      <td>31.0</td>\n",
       "      <td>50000.0</td>\n",
       "      <td>0</td>\n",
       "      <td>1</td>\n",
       "      <td>NaN</td>\n",
       "      <td>4600.0</td>\n",
       "      <td>90.0</td>\n",
       "    </tr>\n",
       "    <tr>\n",
       "      <th>646433</th>\n",
       "      <td>2022-07-14</td>\n",
       "      <td>1</td>\n",
       "      <td>2390018</td>\n",
       "      <td>32</td>\n",
       "      <td>5510.0</td>\n",
       "      <td>1</td>\n",
       "      <td>1</td>\n",
       "      <td>1</td>\n",
       "      <td>762.0</td>\n",
       "      <td>192.0</td>\n",
       "      <td>61</td>\n",
       "      <td>26</td>\n",
       "      <td>35.0</td>\n",
       "      <td>50000.0</td>\n",
       "      <td>0</td>\n",
       "      <td>1</td>\n",
       "      <td>NaN</td>\n",
       "      <td>6700.0</td>\n",
       "      <td>100.0</td>\n",
       "    </tr>\n",
       "  </tbody>\n",
       "</table>\n",
       "</div>"
      ],
      "text/plain": [
       "              date  region_id  local_id  marketplace_id  brand_id  \\\n",
       "646421  2022-07-14          1   2390014              32    5510.0   \n",
       "646422  2022-07-14          1   2390014              32    5510.0   \n",
       "646423  2022-07-14          1   2390014              32    5510.0   \n",
       "646427  2022-07-14          1   2390016              32    4426.0   \n",
       "646428  2022-07-14          1   2390016              32    4426.0   \n",
       "646429  2022-07-14          1   2390016              32    4426.0   \n",
       "646430  2022-07-14          1   2390017              32    5546.0   \n",
       "646431  2022-07-14          1   2390017              32    5546.0   \n",
       "646432  2022-07-14          1   2390017              32    5546.0   \n",
       "646433  2022-07-14          1   2390018              32    5510.0   \n",
       "\n",
       "        is_description  is_composition  images_number  search_id  \\\n",
       "646421               1               1              1      762.0   \n",
       "646422               1               1              1      763.0   \n",
       "646423               1               1              1      769.0   \n",
       "646427               0               0              2      762.0   \n",
       "646428               0               0              2      763.0   \n",
       "646429               0               0              2      769.0   \n",
       "646430               0               0              2      762.0   \n",
       "646431               0               0              2      769.0   \n",
       "646432               0               0              2      763.0   \n",
       "646433               1               1              1      762.0   \n",
       "\n",
       "        search_position  category_id  category_position  votes   rating  \\\n",
       "646421             53.0           61                 16   24.0  50000.0   \n",
       "646422             49.0           61                 16   24.0  50000.0   \n",
       "646423             94.0           61                 16   24.0  50000.0   \n",
       "646427            167.0           61                 18   18.0  50000.0   \n",
       "646428            163.0           61                 18   18.0  50000.0   \n",
       "646429            149.0           61                 18   18.0  50000.0   \n",
       "646430            264.0           61                 25   31.0  50000.0   \n",
       "646431            304.0           61                 25   31.0  50000.0   \n",
       "646432            264.0           61                 25   31.0  50000.0   \n",
       "646433            192.0           61                 26   35.0  50000.0   \n",
       "\n",
       "        video_availability  availability  regular_price  discount_price  \\\n",
       "646421                   0             1            NaN         10400.0   \n",
       "646422                   0             1            NaN         10400.0   \n",
       "646423                   0             1            NaN         10400.0   \n",
       "646427                   0             1            NaN         12100.0   \n",
       "646428                   0             1            NaN         12100.0   \n",
       "646429                   0             1            NaN         12100.0   \n",
       "646430                   0             1            NaN          4600.0   \n",
       "646431                   0             1            NaN          4600.0   \n",
       "646432                   0             1            NaN          4600.0   \n",
       "646433                   0             1            NaN          6700.0   \n",
       "\n",
       "        weight  \n",
       "646421   150.0  \n",
       "646422   150.0  \n",
       "646423   150.0  \n",
       "646427   150.0  \n",
       "646428   150.0  \n",
       "646429   150.0  \n",
       "646430    90.0  \n",
       "646431    90.0  \n",
       "646432    90.0  \n",
       "646433   100.0  "
      ]
     },
     "execution_count": 16,
     "metadata": {},
     "output_type": "execute_result"
    }
   ],
   "source": [
    "# As we can see, this is due to erroneously adding zeros to the values. The marketplaces typically have a product rating from 1 to 5\n",
    "df[df.rating >= 10000].head(10)"
   ]
  },
  {
   "cell_type": "code",
   "execution_count": 17,
   "id": "da3c0f48",
   "metadata": {},
   "outputs": [
    {
     "data": {
      "text/plain": [
       "array([ 0., nan,  5.,  4.,  3.,  2.,  1.])"
      ]
     },
     "execution_count": 17,
     "metadata": {},
     "output_type": "execute_result"
    }
   ],
   "source": [
    "#Dividing by 100 to convert the values to the same format\n",
    "df.loc[df.rating >= 10000, 'rating'] = df.rating/100\n",
    "#And converting all values to a 5-point scale\n",
    "df.loc[:, 'rating'] = df.loc[:, 'rating'] / 100\n",
    "# Getting values from 0 to 5\n",
    "df.rating.unique()"
   ]
  },
  {
   "cell_type": "markdown",
   "id": "af1abd66",
   "metadata": {},
   "source": [
    "## 3. Detecting missing values"
   ]
  },
  {
   "cell_type": "code",
   "execution_count": 18,
   "id": "68f1bedd",
   "metadata": {},
   "outputs": [
    {
     "name": "stdout",
     "output_type": "stream",
     "text": [
      "<class 'pandas.core.frame.DataFrame'>\n",
      "Int64Index: 981285 entries, 0 to 1330664\n",
      "Data columns (total 19 columns):\n",
      " #   Column              Non-Null Count   Dtype  \n",
      "---  ------              --------------   -----  \n",
      " 0   date                981285 non-null  object \n",
      " 1   region_id           981285 non-null  int64  \n",
      " 2   local_id            981285 non-null  int64  \n",
      " 3   marketplace_id      981285 non-null  int64  \n",
      " 4   brand_id            958934 non-null  float64\n",
      " 5   is_description      981285 non-null  int64  \n",
      " 6   is_composition      981285 non-null  int64  \n",
      " 7   images_number       981285 non-null  int64  \n",
      " 8   search_id           876929 non-null  float64\n",
      " 9   search_position     876929 non-null  float64\n",
      " 10  category_id         981285 non-null  int64  \n",
      " 11  category_position   981285 non-null  int64  \n",
      " 12  votes               391557 non-null  float64\n",
      " 13  rating              364092 non-null  float64\n",
      " 14  video_availability  981285 non-null  int64  \n",
      " 15  availability        981285 non-null  int64  \n",
      " 16  regular_price       127845 non-null  float64\n",
      " 17  discount_price      776189 non-null  float64\n",
      " 18  weight              903399 non-null  float64\n",
      "dtypes: float64(8), int64(10), object(1)\n",
      "memory usage: 182.0+ MB\n"
     ]
    }
   ],
   "source": [
    "# Let's see which columns have missing values\n",
    "df.info()"
   ]
  },
  {
   "cell_type": "code",
   "execution_count": 19,
   "id": "47a3464d",
   "metadata": {
    "scrolled": true
   },
   "outputs": [
    {
     "data": {
      "image/png": "[encoded data removed]",
      "text/plain": [
       "<Figure size 2500x1000 with 2 Axes>"
      ]
     },
     "metadata": {},
     "output_type": "display_data"
    }
   ],
   "source": [
    "#Visualizing the missing values\n",
    "import missingno as msno\n",
    "import matplotlib.pyplot as plt\n",
    "msno.matrix(df)\n",
    "plt.show()"
   ]
  },
  {
   "cell_type": "code",
   "execution_count": 20,
   "id": "0286d1cc",
   "metadata": {},
   "outputs": [
    {
     "data": {
      "image/png": "[encoded data removed]",
      "text/plain": [
       "<Figure size 1500x800 with 1 Axes>"
      ]
     },
     "metadata": {},
     "output_type": "display_data"
    }
   ],
   "source": [
    "import pylab\n",
    "def plot_missing_values(df):\n",
    "    \"\"\" For each column with missing values plot proportion that is missing.\"\"\"\n",
    "    data = [(col, df[col].isnull().sum() / len(df)) \n",
    "            for col in df.columns if df[col].isnull().sum() > 0]\n",
    "    col_names = ['column', 'percent_missing']\n",
    "    missing_df = pd.DataFrame(data, columns=col_names).sort_values('percent_missing')\n",
    "    pylab.rcParams['figure.figsize'] = (15, 8)\n",
    "    missing_df.plot(kind='barh', x='column', y='percent_missing'); \n",
    "    plt.title('Percentage of missing values in variables');\n",
    "    \n",
    "plot_missing_values(df)"
   ]
  },
  {
   "cell_type": "markdown",
   "id": "d9c8a3f8",
   "metadata": {},
   "source": [
    "The variables with the greatest number of missing values are brand_id, search_id, search_position, votes, rating, regular_price, discount_price, weight"
   ]
  },
  {
   "cell_type": "markdown",
   "id": "74aa65b7",
   "metadata": {},
   "source": [
    "1) brand_id is a categorical variable, it shows the brand."
   ]
  },
  {
   "cell_type": "code",
   "execution_count": 21,
   "id": "e86d609d",
   "metadata": {},
   "outputs": [
    {
     "data": {
      "text/plain": [
       "True"
      ]
     },
     "execution_count": 21,
     "metadata": {},
     "output_type": "execute_result"
    }
   ],
   "source": [
    "# Trying to reconstruct it by filling in values, using local_id\n",
    "df['brand_id2'] = df.groupby('local_id')['brand_id'].ffill()\n",
    "df['brand_id2'].count() == df['brand_id'].count()"
   ]
  },
  {
   "cell_type": "markdown",
   "id": "13331223",
   "metadata": {},
   "source": [
    "Unfortunately, the method has not helped, which is due to the absence of brand_id among the same local_id. There is no way to reconstruct brand_id from other variables. So we have to delete the missing values"
   ]
  },
  {
   "cell_type": "code",
   "execution_count": 22,
   "id": "cbabc8ff",
   "metadata": {},
   "outputs": [],
   "source": [
    "del df['brand_id2']"
   ]
  },
  {
   "cell_type": "code",
   "execution_count": 23,
   "id": "3655663a",
   "metadata": {},
   "outputs": [
    {
     "data": {
      "text/plain": [
       "'2.28%'"
      ]
     },
     "execution_count": 23,
     "metadata": {},
     "output_type": "execute_result"
    }
   ],
   "source": [
    "df.dropna(subset=['brand_id'], inplace = True)\n",
    "str(round((1 - df.shape[0]/981285) * 100, 2))+'%'\n",
    "# The final deletion of rows is less than 5%"
   ]
  },
  {
   "cell_type": "markdown",
   "id": "8fe2373b",
   "metadata": {},
   "source": [
    "2) search_id is a categorical variable and means search query."
   ]
  },
  {
   "cell_type": "code",
   "execution_count": 24,
   "id": "af0a655b",
   "metadata": {},
   "outputs": [
    {
     "name": "stdout",
     "output_type": "stream",
     "text": [
      "<class 'pandas.core.frame.DataFrame'>\n",
      "Int64Index: 958934 entries, 0 to 1330663\n",
      "Data columns (total 21 columns):\n",
      " #   Column              Non-Null Count   Dtype  \n",
      "---  ------              --------------   -----  \n",
      " 0   date                958934 non-null  object \n",
      " 1   region_id           958934 non-null  int64  \n",
      " 2   local_id            958934 non-null  int64  \n",
      " 3   marketplace_id      958934 non-null  int64  \n",
      " 4   brand_id            958934 non-null  float64\n",
      " 5   is_description      958934 non-null  int64  \n",
      " 6   is_composition      958934 non-null  int64  \n",
      " 7   images_number       958934 non-null  int64  \n",
      " 8   search_id           856467 non-null  float64\n",
      " 9   search_position     856467 non-null  float64\n",
      " 10  category_id         958934 non-null  int64  \n",
      " 11  category_position   958934 non-null  int64  \n",
      " 12  votes               391557 non-null  float64\n",
      " 13  rating              364092 non-null  float64\n",
      " 14  video_availability  958934 non-null  int64  \n",
      " 15  availability        958934 non-null  int64  \n",
      " 16  regular_price       124153 non-null  float64\n",
      " 17  discount_price      757728 non-null  float64\n",
      " 18  weight              903399 non-null  float64\n",
      " 19  search_id1          950866 non-null  float64\n",
      " 20  search_id2          897127 non-null  float64\n",
      "dtypes: float64(10), int64(10), object(1)\n",
      "memory usage: 161.0+ MB\n"
     ]
    }
   ],
   "source": [
    "# Filling in missing values in search_id variable using brand_id column\n",
    "df['search_id1'] = df.groupby('brand_id')['search_id'].ffill()\n",
    "# And using local_id (for comparison)\n",
    "df['search_id2'] = df.groupby('local_id')['search_id'].ffill()\n",
    "df.info()"
   ]
  },
  {
   "cell_type": "code",
   "execution_count": 25,
   "id": "73b9b759",
   "metadata": {},
   "outputs": [],
   "source": [
    "# As we can see, in search_id1 variable there are more values being filled in than in search_id2 variable,\n",
    "# So let's fill search_id variable using 'brand_id'\n",
    "del df['search_id2']\n",
    "del df['search_id1']\n",
    "df['search_id'] = df.groupby('brand_id')['search_id'].ffill()"
   ]
  },
  {
   "cell_type": "markdown",
   "id": "3217f674",
   "metadata": {},
   "source": [
    "3) search_position - position in the search query and is similar to an ordinal variable, so we will use the median"
   ]
  },
  {
   "cell_type": "code",
   "execution_count": 26,
   "id": "4d43f4eb",
   "metadata": {},
   "outputs": [],
   "source": [
    "df['search_position'].fillna(df.groupby('brand_id')['search_position'].transform('median'), inplace = True)"
   ]
  },
  {
   "cell_type": "markdown",
   "id": "f3715391",
   "metadata": {},
   "source": [
    "4) votes - number of reviews, the variable is interval, but we saw that its distribution has many outliers, so we use median"
   ]
  },
  {
   "cell_type": "code",
   "execution_count": 27,
   "id": "bd48f5a9",
   "metadata": {},
   "outputs": [],
   "source": [
    "df['votes'].fillna(df.groupby('brand_id')['votes'].transform('median'), inplace = True)"
   ]
  },
  {
   "cell_type": "markdown",
   "id": "a20a018c",
   "metadata": {},
   "source": [
    "5) rating - also an interval variable, and has a lot of outliers, so we use median"
   ]
  },
  {
   "cell_type": "code",
   "execution_count": 28,
   "id": "7a1e2d58",
   "metadata": {},
   "outputs": [],
   "source": [
    "df['rating'].fillna(df.groupby('brand_id')['rating'].transform('median'), inplace = True)"
   ]
  },
  {
   "cell_type": "markdown",
   "id": "21eac040",
   "metadata": {},
   "source": [
    "6) regular_price and discount_price. As it was stated before, when there is no discount, the price value is written in the discount_price column and the regular_price column remains null, so we need to move the values from the discount column to the regular price column."
   ]
  },
  {
   "cell_type": "code",
   "execution_count": 29,
   "id": "fbadb110",
   "metadata": {},
   "outputs": [
    {
     "data": {
      "text/plain": [
       "<AxesSubplot:>"
      ]
     },
     "execution_count": 29,
     "metadata": {},
     "output_type": "execute_result"
    },
    {
     "data": {
      "image/png": "[encoded data removed]",
      "text/plain": [
       "<Figure size 1500x800 with 1 Axes>"
      ]
     },
     "metadata": {},
     "output_type": "display_data"
    }
   ],
   "source": [
    "# Filtering the rows where regular_price = NaN, a discount_price != NaN\n",
    "df[(df.regular_price.isnull()) & (df.discount_price.notnull())]]\n",
    "# Filling the discount_price values into the regular_price column\n",
    "df.loc[(df.regular_price.isnull()) & (df.discount_price.notnull()), 'regular_price'] = df.discount_price\n",
    "df.boxplot('regular_price')"
   ]
  },
  {
   "cell_type": "code",
   "execution_count": 30,
   "id": "d95410db",
   "metadata": {},
   "outputs": [
    {
     "name": "stdout",
     "output_type": "stream",
     "text": [
      "<class 'pandas.core.frame.DataFrame'>\n",
      "Int64Index: 958934 entries, 0 to 1330663\n",
      "Data columns (total 19 columns):\n",
      " #   Column              Non-Null Count   Dtype  \n",
      "---  ------              --------------   -----  \n",
      " 0   date                958934 non-null  object \n",
      " 1   region_id           958934 non-null  int64  \n",
      " 2   local_id            958934 non-null  int64  \n",
      " 3   marketplace_id      958934 non-null  int64  \n",
      " 4   brand_id            958934 non-null  float64\n",
      " 5   is_description      958934 non-null  int64  \n",
      " 6   is_composition      958934 non-null  int64  \n",
      " 7   images_number       958934 non-null  int64  \n",
      " 8   search_id           950866 non-null  float64\n",
      " 9   search_position     953755 non-null  float64\n",
      " 10  category_id         958934 non-null  int64  \n",
      " 11  category_position   958934 non-null  int64  \n",
      " 12  votes               913965 non-null  float64\n",
      " 13  rating              913969 non-null  float64\n",
      " 14  video_availability  958934 non-null  int64  \n",
      " 15  availability        958934 non-null  int64  \n",
      " 16  regular_price       896947 non-null  float64\n",
      " 17  discount_price      757728 non-null  float64\n",
      " 18  weight              903399 non-null  float64\n",
      "dtypes: float64(8), int64(10), object(1)\n",
      "memory usage: 178.6+ MB\n"
     ]
    }
   ],
   "source": [
    "# Now reconstructing NaN values in regular_price using median (median we use because there are many outliers)\n",
    "df['regular_price'].fillna(df.groupby('brand_id')['regular_price'].transform('median'), inplace = True)\n",
    "df.info()"
   ]
  },
  {
   "cell_type": "markdown",
   "id": "282c4fec",
   "metadata": {},
   "source": [
    "In summary, the amount of NaN was considerably reduced. In order to use statistical methods, we remove the remaining NaN"
   ]
  },
  {
   "cell_type": "code",
   "execution_count": 31,
   "id": "1227fabf",
   "metadata": {},
   "outputs": [
    {
     "name": "stdout",
     "output_type": "stream",
     "text": [
      "<class 'pandas.core.frame.DataFrame'>\n",
      "Int64Index: 853810 entries, 0 to 1330663\n",
      "Data columns (total 19 columns):\n",
      " #   Column              Non-Null Count   Dtype  \n",
      "---  ------              --------------   -----  \n",
      " 0   date                853810 non-null  object \n",
      " 1   region_id           853810 non-null  int64  \n",
      " 2   local_id            853810 non-null  int64  \n",
      " 3   marketplace_id      853810 non-null  int64  \n",
      " 4   brand_id            853810 non-null  float64\n",
      " 5   is_description      853810 non-null  int64  \n",
      " 6   is_composition      853810 non-null  int64  \n",
      " 7   images_number       853810 non-null  int64  \n",
      " 8   search_id           853810 non-null  float64\n",
      " 9   search_position     853810 non-null  float64\n",
      " 10  category_id         853810 non-null  int64  \n",
      " 11  category_position   853810 non-null  int64  \n",
      " 12  votes               853810 non-null  float64\n",
      " 13  rating              853810 non-null  float64\n",
      " 14  video_availability  853810 non-null  int64  \n",
      " 15  availability        853810 non-null  int64  \n",
      " 16  regular_price       853810 non-null  float64\n",
      " 17  discount_price      716121 non-null  float64\n",
      " 18  weight              810334 non-null  float64\n",
      "dtypes: float64(8), int64(10), object(1)\n",
      "memory usage: 130.3+ MB\n"
     ]
    }
   ],
   "source": [
    "df.dropna(subset=['search_id', 'search_position','votes', 'rating', 'regular_price'], inplace= True)\n",
    "df.info()"
   ]
  },
  {
   "cell_type": "code",
   "execution_count": 32,
   "id": "736fde32",
   "metadata": {},
   "outputs": [
    {
     "data": {
      "text/plain": [
       "'13.0%'"
      ]
     },
     "execution_count": 32,
     "metadata": {},
     "output_type": "execute_result"
    }
   ],
   "source": [
    "# A total of 13% of the information was removed due to missing values\n",
    "str(round((1 - 853810/981285)*100,0)) + '%'"
   ]
  },
  {
   "cell_type": "markdown",
   "id": "013ded38",
   "metadata": {},
   "source": [
    "## 4. Statistical tests"
   ]
  },
  {
   "cell_type": "markdown",
   "id": "eb822722",
   "metadata": {},
   "source": [
    "For all tests, the significance level is 0.05"
   ]
  },
  {
   "cell_type": "markdown",
   "id": "9077a639",
   "metadata": {},
   "source": [
    "Hypothesis 1: Description availability (is_description), composition availability (is_composition), number of images (images_number), video availability (video_availability) and product availability (availability) have an inversely proportional relationship with category position (category_position). In other words, the more elements there are in the product card, the higher the category position ( strives for 1)."
   ]
  },
  {
   "cell_type": "markdown",
   "id": "72c3c340",
   "metadata": {},
   "source": [
    "Method: Linear regression, X - is_description, is_composition, images_number, video_availability, availability; Y - category_position."
   ]
  },
  {
   "cell_type": "code",
   "execution_count": 33,
   "id": "b364fbf9",
   "metadata": {
    "scrolled": true
   },
   "outputs": [
    {
     "data": {
      "text/html": [
       "<div>\n",
       "<style scoped>\n",
       "    .dataframe tbody tr th:only-of-type {\n",
       "        vertical-align: middle;\n",
       "    }\n",
       "\n",
       "    .dataframe tbody tr th {\n",
       "        vertical-align: top;\n",
       "    }\n",
       "\n",
       "    .dataframe thead th {\n",
       "        text-align: right;\n",
       "    }\n",
       "</style>\n",
       "<table border=\"1\" class=\"dataframe\">\n",
       "  <thead>\n",
       "    <tr style=\"text-align: right;\">\n",
       "      <th></th>\n",
       "      <th>is_description</th>\n",
       "      <th>is_composition</th>\n",
       "      <th>images_number</th>\n",
       "      <th>video_availability</th>\n",
       "      <th>availability</th>\n",
       "      <th>category_position</th>\n",
       "    </tr>\n",
       "  </thead>\n",
       "  <tbody>\n",
       "    <tr>\n",
       "      <th>is_description</th>\n",
       "      <td>1.000000</td>\n",
       "      <td>0.332194</td>\n",
       "      <td>0.321555</td>\n",
       "      <td>0.036826</td>\n",
       "      <td>0.326995</td>\n",
       "      <td>-0.327736</td>\n",
       "    </tr>\n",
       "    <tr>\n",
       "      <th>is_composition</th>\n",
       "      <td>0.332194</td>\n",
       "      <td>1.000000</td>\n",
       "      <td>0.180131</td>\n",
       "      <td>0.016559</td>\n",
       "      <td>0.339863</td>\n",
       "      <td>-0.286177</td>\n",
       "    </tr>\n",
       "    <tr>\n",
       "      <th>images_number</th>\n",
       "      <td>0.321555</td>\n",
       "      <td>0.180131</td>\n",
       "      <td>1.000000</td>\n",
       "      <td>0.083575</td>\n",
       "      <td>0.307540</td>\n",
       "      <td>-0.237938</td>\n",
       "    </tr>\n",
       "    <tr>\n",
       "      <th>video_availability</th>\n",
       "      <td>0.036826</td>\n",
       "      <td>0.016559</td>\n",
       "      <td>0.083575</td>\n",
       "      <td>1.000000</td>\n",
       "      <td>0.024114</td>\n",
       "      <td>-0.016665</td>\n",
       "    </tr>\n",
       "    <tr>\n",
       "      <th>availability</th>\n",
       "      <td>0.326995</td>\n",
       "      <td>0.339863</td>\n",
       "      <td>0.307540</td>\n",
       "      <td>0.024114</td>\n",
       "      <td>1.000000</td>\n",
       "      <td>-0.562977</td>\n",
       "    </tr>\n",
       "    <tr>\n",
       "      <th>category_position</th>\n",
       "      <td>-0.327736</td>\n",
       "      <td>-0.286177</td>\n",
       "      <td>-0.237938</td>\n",
       "      <td>-0.016665</td>\n",
       "      <td>-0.562977</td>\n",
       "      <td>1.000000</td>\n",
       "    </tr>\n",
       "  </tbody>\n",
       "</table>\n",
       "</div>"
      ],
      "text/plain": [
       "                    is_description  is_composition  images_number  \\\n",
       "is_description            1.000000        0.332194       0.321555   \n",
       "is_composition            0.332194        1.000000       0.180131   \n",
       "images_number             0.321555        0.180131       1.000000   \n",
       "video_availability        0.036826        0.016559       0.083575   \n",
       "availability              0.326995        0.339863       0.307540   \n",
       "category_position        -0.327736       -0.286177      -0.237938   \n",
       "\n",
       "                    video_availability  availability  category_position  \n",
       "is_description                0.036826      0.326995          -0.327736  \n",
       "is_composition                0.016559      0.339863          -0.286177  \n",
       "images_number                 0.083575      0.307540          -0.237938  \n",
       "video_availability            1.000000      0.024114          -0.016665  \n",
       "availability                  0.024114      1.000000          -0.562977  \n",
       "category_position            -0.016665     -0.562977           1.000000  "
      ]
     },
     "execution_count": 33,
     "metadata": {},
     "output_type": "execute_result"
    }
   ],
   "source": [
    "# 1. Checking for multicollinearity of the independent variables as well as the relationship with the dependent variable\n",
    "df[[['is_description', 'is_composition', 'images_number', 'video_availability', 'availability', 'category_position']]].corr()\n",
    "# Conclusion 1: No coefficients > 0.6 => we can use these variables (X) in the same model.\n",
    "# Conclusion 2: video_availability should be removed from the model because the correlation with category_position (Y) is too low.\n",
    "# The other variables should be added to the model"
   ]
  },
  {
   "cell_type": "code",
   "execution_count": 34,
   "id": "a73ab5d7",
   "metadata": {},
   "outputs": [
    {
     "data": {
      "text/html": [
       "<table class=\"simpletable\">\n",
       "<caption>OLS Regression Results</caption>\n",
       "<tr>\n",
       "  <th>Dep. Variable:</th>    <td>category_position</td> <th>  R-squared:         </th>  <td>   0.345</td>  \n",
       "</tr>\n",
       "<tr>\n",
       "  <th>Model:</th>                   <td>OLS</td>        <th>  Adj. R-squared:    </th>  <td>   0.345</td>  \n",
       "</tr>\n",
       "<tr>\n",
       "  <th>Method:</th>             <td>Least Squares</td>   <th>  F-statistic:       </th>  <td>1.125e+05</td> \n",
       "</tr>\n",
       "<tr>\n",
       "  <th>Date:</th>             <td>Thu, 30 Mar 2023</td>  <th>  Prob (F-statistic):</th>   <td>  0.00</td>   \n",
       "</tr>\n",
       "<tr>\n",
       "  <th>Time:</th>                 <td>14:04:46</td>      <th>  Log-Likelihood:    </th> <td>-6.5465e+06</td>\n",
       "</tr>\n",
       "<tr>\n",
       "  <th>No. Observations:</th>      <td>853810</td>       <th>  AIC:               </th>  <td>1.309e+07</td> \n",
       "</tr>\n",
       "<tr>\n",
       "  <th>Df Residuals:</th>          <td>853805</td>       <th>  BIC:               </th>  <td>1.309e+07</td> \n",
       "</tr>\n",
       "<tr>\n",
       "  <th>Df Model:</th>              <td>     4</td>       <th>                     </th>      <td> </td>     \n",
       "</tr>\n",
       "<tr>\n",
       "  <th>Covariance Type:</th>      <td>nonrobust</td>     <th>                     </th>      <td> </td>     \n",
       "</tr>\n",
       "</table>\n",
       "<table class=\"simpletable\">\n",
       "<tr>\n",
       "         <td></td>           <th>coef</th>     <th>std err</th>      <th>t</th>      <th>P>|t|</th>  <th>[0.025</th>    <th>0.975]</th>  \n",
       "</tr>\n",
       "<tr>\n",
       "  <th>Intercept</th>      <td> 1211.8817</td> <td>    1.902</td> <td>  637.218</td> <td> 0.000</td> <td> 1208.154</td> <td> 1215.609</td>\n",
       "</tr>\n",
       "<tr>\n",
       "  <th>is_description</th> <td> -181.1387</td> <td>    1.317</td> <td> -137.510</td> <td> 0.000</td> <td> -183.721</td> <td> -178.557</td>\n",
       "</tr>\n",
       "<tr>\n",
       "  <th>is_composition</th> <td> -151.3852</td> <td>    2.061</td> <td>  -73.439</td> <td> 0.000</td> <td> -155.425</td> <td> -147.345</td>\n",
       "</tr>\n",
       "<tr>\n",
       "  <th>images_number</th>  <td>  -16.8073</td> <td>    0.489</td> <td>  -34.380</td> <td> 0.000</td> <td>  -17.766</td> <td>  -15.849</td>\n",
       "</tr>\n",
       "<tr>\n",
       "  <th>availability</th>   <td> -792.2957</td> <td>    1.605</td> <td> -493.555</td> <td> 0.000</td> <td> -795.442</td> <td> -789.149</td>\n",
       "</tr>\n",
       "</table>\n",
       "<table class=\"simpletable\">\n",
       "<tr>\n",
       "  <th>Omnibus:</th>       <td>1024661.719</td> <th>  Durbin-Watson:     </th>   <td>   0.206</td>   \n",
       "</tr>\n",
       "<tr>\n",
       "  <th>Prob(Omnibus):</th>   <td> 0.000</td>    <th>  Jarque-Bera (JB):  </th> <td>202702010.922</td>\n",
       "</tr>\n",
       "<tr>\n",
       "  <th>Skew:</th>            <td> 6.306</td>    <th>  Prob(JB):          </th>   <td>    0.00</td>   \n",
       "</tr>\n",
       "<tr>\n",
       "  <th>Kurtosis:</th>        <td>77.423</td>    <th>  Cond. No.          </th>   <td>    11.6</td>   \n",
       "</tr>\n",
       "</table><br/><br/>Notes:<br/>[1] Standard Errors assume that the covariance matrix of the errors is correctly specified."
      ],
      "text/plain": [
       "<class 'statsmodels.iolib.summary.Summary'>\n",
       "\"\"\"\n",
       "                            OLS Regression Results                            \n",
       "==============================================================================\n",
       "Dep. Variable:      category_position   R-squared:                       0.345\n",
       "Model:                            OLS   Adj. R-squared:                  0.345\n",
       "Method:                 Least Squares   F-statistic:                 1.125e+05\n",
       "Date:                Thu, 30 Mar 2023   Prob (F-statistic):               0.00\n",
       "Time:                        14:04:46   Log-Likelihood:            -6.5465e+06\n",
       "No. Observations:              853810   AIC:                         1.309e+07\n",
       "Df Residuals:                  853805   BIC:                         1.309e+07\n",
       "Df Model:                           4                                         \n",
       "Covariance Type:            nonrobust                                         \n",
       "==================================================================================\n",
       "                     coef    std err          t      P>|t|      [0.025      0.975]\n",
       "----------------------------------------------------------------------------------\n",
       "Intercept       1211.8817      1.902    637.218      0.000    1208.154    1215.609\n",
       "is_description  -181.1387      1.317   -137.510      0.000    -183.721    -178.557\n",
       "is_composition  -151.3852      2.061    -73.439      0.000    -155.425    -147.345\n",
       "images_number    -16.8073      0.489    -34.380      0.000     -17.766     -15.849\n",
       "availability    -792.2957      1.605   -493.555      0.000    -795.442    -789.149\n",
       "==============================================================================\n",
       "Omnibus:                  1024661.719   Durbin-Watson:                   0.206\n",
       "Prob(Omnibus):                  0.000   Jarque-Bera (JB):        202702010.922\n",
       "Skew:                           6.306   Prob(JB):                         0.00\n",
       "Kurtosis:                      77.423   Cond. No.                         11.6\n",
       "==============================================================================\n",
       "\n",
       "Notes:\n",
       "[1] Standard Errors assume that the covariance matrix of the errors is correctly specified.\n",
       "\"\"\""
      ]
     },
     "execution_count": 34,
     "metadata": {},
     "output_type": "execute_result"
    }
   ],
   "source": [
    "import statsmodels.formula.api as smf\n",
    "# Creating a linear regression model\n",
    "model = smf.ols(formula='category_position ~ is_description + is_composition + images_number + availability', data=df).fit()\n",
    "model.summary()"
   ]
  },
  {
   "cell_type": "code",
   "execution_count": 35,
   "id": "e3c85176",
   "metadata": {},
   "outputs": [],
   "source": [
    "# 2. The normality of the residuals distribution\n",
    "# Omnibus describes the normality of the distribution of our residuals (residuals of unexplained variance)\n",
    "# Since 0 means complete normality, and our model has 1024661, we can conclude,\n",
    "# that the residuals are not normally distributed, which reduces the quality of the model\n",
    "\n",
    "# 3. Homoscedasticity\n",
    "# Durbin-Watson is a measure of homoscedasticity, or the equal distribution of errors in our data.\n",
    "# Since the ideal homoscedasticity score is between 1 and 2, in this test the score \n",
    "# is far from ideal - 0.206, again indicating that the model is of poor quality.\n",
    "\n",
    "# 4. The quality of the model\n",
    "# R-squared is 35% => the considered variables explain the dependent variable 'category_position' by 35%\n",
    "# Prob. (F-statistic) = 0.000, indicating that the coefficient is significant.\n",
    "\n",
    "# 5. Interpretation of model coefficients\n",
    "# P-value of all variables = 0.000, this is less than 0.05, indicating that they are significant (we reject the hypothesis that the coefficients = 0)\n",
    "\n",
    "# In summary, hypothesis 1 is confirmed:\n",
    "# When the value of the independent variables increases by 1, the value of the dependent variable decreases.\n",
    "# This means that when the number of card elements (description, composition, pictures, accessibility) increases,\n",
    "# the position of the card in the category goes up! The most significant factor is availability.\n",
    "# However, it should be noted that the quality of the model is quite low."
   ]
  },
  {
   "cell_type": "code",
   "execution_count": 36,
   "id": "d0e970d0",
   "metadata": {},
   "outputs": [
    {
     "data": {
      "text/plain": [
       "<AxesSubplot:>"
      ]
     },
     "execution_count": 36,
     "metadata": {},
     "output_type": "execute_result"
    },
    {
     "data": {
      "image/png": "[encoded data removed]",
      "text/plain": [
       "<Figure size 1500x800 with 1 Axes>"
      ]
     },
     "metadata": {},
     "output_type": "display_data"
    }
   ],
   "source": [
    "# We can try to improve the quality of the model, removing the outliers\n",
    "df.boxplot('category_position')"
   ]
  },
  {
   "cell_type": "code",
   "execution_count": 37,
   "id": "122fcc67",
   "metadata": {},
   "outputs": [
    {
     "data": {
      "text/plain": [
       "(754351, 19)"
      ]
     },
     "execution_count": 37,
     "metadata": {},
     "output_type": "execute_result"
    }
   ],
   "source": [
    "q1 = df['category_position'].quantile(0.25)\n",
    "q3 = df['category_position'].quantile(0.75)\n",
    "iqr = q3 - q1\n",
    "lower_bound = q1 - 1.5 * iqr\n",
    "upper_bound = q3 + 1.5 * iqr\n",
    "\n",
    "# Creating a dataset with no outliers\n",
    "withoutoutliers = df[(df['category_position'] > lower_bound) & (df['category_position'] < upper_bound)]\n",
    "withoutoutliers.shape"
   ]
  },
  {
   "cell_type": "code",
   "execution_count": 38,
   "id": "67644452",
   "metadata": {},
   "outputs": [
    {
     "data": {
      "text/html": [
       "<table class=\"simpletable\">\n",
       "<caption>OLS Regression Results</caption>\n",
       "<tr>\n",
       "  <th>Dep. Variable:</th>    <td>category_position</td> <th>  R-squared:         </th>  <td>   0.212</td>  \n",
       "</tr>\n",
       "<tr>\n",
       "  <th>Model:</th>                   <td>OLS</td>        <th>  Adj. R-squared:    </th>  <td>   0.212</td>  \n",
       "</tr>\n",
       "<tr>\n",
       "  <th>Method:</th>             <td>Least Squares</td>   <th>  F-statistic:       </th>  <td>5.078e+04</td> \n",
       "</tr>\n",
       "<tr>\n",
       "  <th>Date:</th>             <td>Thu, 30 Mar 2023</td>  <th>  Prob (F-statistic):</th>   <td>  0.00</td>   \n",
       "</tr>\n",
       "<tr>\n",
       "  <th>Time:</th>                 <td>14:04:48</td>      <th>  Log-Likelihood:    </th> <td>-4.5460e+06</td>\n",
       "</tr>\n",
       "<tr>\n",
       "  <th>No. Observations:</th>      <td>754351</td>       <th>  AIC:               </th>  <td>9.092e+06</td> \n",
       "</tr>\n",
       "<tr>\n",
       "  <th>Df Residuals:</th>          <td>754346</td>       <th>  BIC:               </th>  <td>9.092e+06</td> \n",
       "</tr>\n",
       "<tr>\n",
       "  <th>Df Model:</th>              <td>     4</td>       <th>                     </th>      <td> </td>     \n",
       "</tr>\n",
       "<tr>\n",
       "  <th>Covariance Type:</th>      <td>nonrobust</td>     <th>                     </th>      <td> </td>     \n",
       "</tr>\n",
       "</table>\n",
       "<table class=\"simpletable\">\n",
       "<tr>\n",
       "         <td></td>           <th>coef</th>     <th>std err</th>      <th>t</th>      <th>P>|t|</th>  <th>[0.025</th>    <th>0.975]</th>  \n",
       "</tr>\n",
       "<tr>\n",
       "  <th>Intercept</th>      <td>  306.8896</td> <td>    0.524</td> <td>  585.241</td> <td> 0.000</td> <td>  305.862</td> <td>  307.917</td>\n",
       "</tr>\n",
       "<tr>\n",
       "  <th>is_description</th> <td>  -23.9538</td> <td>    0.270</td> <td>  -88.610</td> <td> 0.000</td> <td>  -24.484</td> <td>  -23.424</td>\n",
       "</tr>\n",
       "<tr>\n",
       "  <th>is_composition</th> <td>  -23.6769</td> <td>    0.494</td> <td>  -47.976</td> <td> 0.000</td> <td>  -24.644</td> <td>  -22.710</td>\n",
       "</tr>\n",
       "<tr>\n",
       "  <th>images_number</th>  <td>    1.1396</td> <td>    0.097</td> <td>   11.790</td> <td> 0.000</td> <td>    0.950</td> <td>    1.329</td>\n",
       "</tr>\n",
       "<tr>\n",
       "  <th>availability</th>   <td> -162.1098</td> <td>    0.413</td> <td> -392.475</td> <td> 0.000</td> <td> -162.919</td> <td> -161.300</td>\n",
       "</tr>\n",
       "</table>\n",
       "<table class=\"simpletable\">\n",
       "<tr>\n",
       "  <th>Omnibus:</th>       <td>146272.702</td> <th>  Durbin-Watson:     </th>  <td>   0.173</td> \n",
       "</tr>\n",
       "<tr>\n",
       "  <th>Prob(Omnibus):</th>   <td> 0.000</td>   <th>  Jarque-Bera (JB):  </th> <td>277635.990</td>\n",
       "</tr>\n",
       "<tr>\n",
       "  <th>Skew:</th>            <td> 1.200</td>   <th>  Prob(JB):          </th>  <td>    0.00</td> \n",
       "</tr>\n",
       "<tr>\n",
       "  <th>Kurtosis:</th>        <td> 4.752</td>   <th>  Cond. No.          </th>  <td>    15.0</td> \n",
       "</tr>\n",
       "</table><br/><br/>Notes:<br/>[1] Standard Errors assume that the covariance matrix of the errors is correctly specified."
      ],
      "text/plain": [
       "<class 'statsmodels.iolib.summary.Summary'>\n",
       "\"\"\"\n",
       "                            OLS Regression Results                            \n",
       "==============================================================================\n",
       "Dep. Variable:      category_position   R-squared:                       0.212\n",
       "Model:                            OLS   Adj. R-squared:                  0.212\n",
       "Method:                 Least Squares   F-statistic:                 5.078e+04\n",
       "Date:                Thu, 30 Mar 2023   Prob (F-statistic):               0.00\n",
       "Time:                        14:04:48   Log-Likelihood:            -4.5460e+06\n",
       "No. Observations:              754351   AIC:                         9.092e+06\n",
       "Df Residuals:                  754346   BIC:                         9.092e+06\n",
       "Df Model:                           4                                         \n",
       "Covariance Type:            nonrobust                                         \n",
       "==================================================================================\n",
       "                     coef    std err          t      P>|t|      [0.025      0.975]\n",
       "----------------------------------------------------------------------------------\n",
       "Intercept        306.8896      0.524    585.241      0.000     305.862     307.917\n",
       "is_description   -23.9538      0.270    -88.610      0.000     -24.484     -23.424\n",
       "is_composition   -23.6769      0.494    -47.976      0.000     -24.644     -22.710\n",
       "images_number      1.1396      0.097     11.790      0.000       0.950       1.329\n",
       "availability    -162.1098      0.413   -392.475      0.000    -162.919    -161.300\n",
       "==============================================================================\n",
       "Omnibus:                   146272.702   Durbin-Watson:                   0.173\n",
       "Prob(Omnibus):                  0.000   Jarque-Bera (JB):           277635.990\n",
       "Skew:                           1.200   Prob(JB):                         0.00\n",
       "Kurtosis:                       4.752   Cond. No.                         15.0\n",
       "==============================================================================\n",
       "\n",
       "Notes:\n",
       "[1] Standard Errors assume that the covariance matrix of the errors is correctly specified.\n",
       "\"\"\""
      ]
     },
     "execution_count": 38,
     "metadata": {},
     "output_type": "execute_result"
    }
   ],
   "source": [
    "# Creating a linear regression model on a dataset with no outliers\n",
    "model = smf.ols(formula='category_position ~ is_description + is_composition + images_number + availability', data=withoutoutoutliers).fit()\n",
    "model.summary()\n",
    "# R-squared decreased, while other metrics remained virtually unchanged, meaning that outliers did not play such an\n",
    "# important role in the worsening of the previous model's performance"
   ]
  },
  {
   "cell_type": "markdown",
   "id": "fc5e7d12",
   "metadata": {},
   "source": [
    "Hypothesis 2: Rating and the number of reviews (votes) have a positive correlation, because good rated products are bought more often => customers write more reviews. \n",
    "In other words, the higher the number of reviews, the better the rating."
   ]
  },
  {
   "cell_type": "markdown",
   "id": "e9dd470c",
   "metadata": {},
   "source": [
    "Method: Spearman correlation X1 - rating, X2 - votes."
   ]
  },
  {
   "cell_type": "code",
   "execution_count": 39,
   "id": "aa3ac347",
   "metadata": {},
   "outputs": [
    {
     "data": {
      "text/plain": [
       "SpearmanrResult(correlation=0.6706983517330254, pvalue=0.0)"
      ]
     },
     "execution_count": 39,
     "metadata": {},
     "output_type": "execute_result"
    }
   ],
   "source": [
    "# We use Spearman rank correlation due to the presence of a large number of outliers in the variables\n",
    "from scipy.stats.stats import spearmanr\n",
    "spearmanr(df['rating'], df['votes'])\n",
    "# Hypothesis 2 is confirmed, indeed, the higher the number of reviews, the better the rating, the correlation is positive,\n",
    "# correlation strength is moderate (0.67). p-value < 0.05 = > the coefficient is significant."
   ]
  },
  {
   "cell_type": "markdown",
   "id": "23ed6664",
   "metadata": {},
   "source": [
    "Hypothesis 3: The more diverse a product's search queries are (more unique search_id), the more likely the product is to be higher in search (search_position) on average"
   ]
  },
  {
   "cell_type": "code",
   "execution_count": 40,
   "id": "2f6c135f",
   "metadata": {},
   "outputs": [
    {
     "data": {
      "text/plain": [
       "SpearmanrResult(correlation=-0.33040518731252244, pvalue=1.087447819232258e-258)"
      ]
     },
     "execution_count": 40,
     "metadata": {},
     "output_type": "execute_result"
    }
   ],
   "source": [
    "# Grouping the dataset and creating a column with the number of unique searches for the product:\n",
    "df_search = df.groupby('local_id')['search_id'].nunique()\n",
    "df_search = df_search.reset_index()\n",
    "# Keeping the column of the number of unique queries\n",
    "df_search = df_search.iloc[:,1]\n",
    "# Grouping the dataset and creating a column with the median search position of the product:\n",
    "df_position = df.groupby('local_id')['search_position'].median()\n",
    "df_position = df_position.reset_index()\n",
    "# Keeping the column again\n",
    "df_position = df_position.iloc[::,1]\n",
    "\n",
    "# Doing a correlation test\n",
    "spearmanr(df_search, df_position)\n",
    "\n",
    "# Hypothesis 3 is not confirmed due to the p-value of the correlation coefficient. \n",
    "# p-value = 1.09, which is greater than 0.05 => the coefficient is not significant, we accept H0 hypothesis of no relationship.\n",
    "# There is no relationship between the number of unique search queries for a product and its position in search. "
   ]
  },
  {
   "cell_type": "markdown",
   "id": "bfa7f417",
   "metadata": {},
   "source": [
    "Hypothesis 4: The average price (regular_price) across  “cards have a description” and “cards have no description” (is_description) groups is different. "
   ]
  },
  {
   "cell_type": "code",
   "execution_count": 41,
   "id": "39cb3b18",
   "metadata": {},
   "outputs": [],
   "source": [
    "# Creatig two groups\n",
    "with_disc = df[df['is_description']== 1]['regular_price']\n",
    "without_disc = df[df['is_description']==0]['regular_price']"
   ]
  },
  {
   "cell_type": "code",
   "execution_count": 42,
   "id": "2d8e1aee",
   "metadata": {},
   "outputs": [
    {
     "data": {
      "text/plain": [
       "(17500.0, 19600.0)"
      ]
     },
     "execution_count": 42,
     "metadata": {},
     "output_type": "execute_result"
    }
   ],
   "source": [
    "# Median price of the groups with and without descriptions\n",
    "with_disc.median(), without_disc.median()"
   ]
  },
  {
   "cell_type": "code",
   "execution_count": 43,
   "id": "61e988b2",
   "metadata": {},
   "outputs": [
    {
     "name": "stdout",
     "output_type": "stream",
     "text": [
      "(553977,) (299833,)\n"
     ]
    },
    {
     "data": {
      "text/plain": [
       "(<AxesSubplot:>, <AxesSubplot:>)"
      ]
     },
     "execution_count": 43,
     "metadata": {},
     "output_type": "execute_result"
    },
    {
     "data": {
      "image/png": "[encoded data removed]",
      "text/plain": [
       "<Figure size 1500x800 with 1 Axes>"
      ]
     },
     "metadata": {},
     "output_type": "display_data"
    }
   ],
   "source": [
    "# Sample size > 30 \n",
    "print(with_disc.shape, without_disc.shape)\n",
    "# However, the distribution is not normal, as indicated by the large number of values near 0 and stretching\n",
    "# to the right side of the graph. Therefore, we will use the non-parametric Mann-Whitney test. \n",
    "with_disc.hist(), without_disc.hist()"
   ]
  },
  {
   "cell_type": "code",
   "execution_count": 44,
   "id": "1e956691",
   "metadata": {},
   "outputs": [
    {
     "data": {
      "text/plain": [
       "MannwhitneyuResult(statistic=76901010046.0, pvalue=0.0)"
      ]
     },
     "execution_count": 44,
     "metadata": {},
     "output_type": "execute_result"
    }
   ],
   "source": [
    "from scipy.stats import mannwhitneyu\n",
    "# Performing a non-parametric Mann-Whitney test for two independent samples\n",
    "mannwhitneyu(with_disc, without_disc, alternative = 'two-sided')\n",
    "\n",
    "# p-value < 0.05 => Rejecting the null hypothesis that there are no statistical differences \n",
    "# in average price ranks. Hypothesis 4 is confirmed, the average price is higher for cards,\n",
    "# that do not have a description."
   ]
  },
  {
   "cell_type": "markdown",
   "id": "67620922",
   "metadata": {},
   "source": [
    "## 5. Results"
   ]
  },
  {
   "cell_type": "markdown",
   "id": "eac3032e",
   "metadata": {},
   "source": [
    "Thus, the following insights can be distinguished:\n",
    "\n",
    "1. In the marketplace of 32 categories 55 anomalies were identified: low search positions of product cards, as well as “empty” product cards (without description, price and product availability) with a large number of reviews.\n",
    "2. When the number of card elements (description, composition, pictures, availability on the marketplace) increases, the position of the card in the category goes up. The most significant component is availability.\n",
    "3. The number of reviews and rating have a positive relationship.\n",
    "4. The average price of product cards without a description is higher than those with a description. It would make more sense to look at what these products without descriptions are and why they have higher prices on average."
   ]
  }
 ],
 "metadata": {
  "kernelspec": {
   "display_name": "Python 3 (ipykernel)",
   "language": "python",
   "name": "python3"
  },
  "language_info": {
   "codemirror_mode": {
    "name": "ipython",
    "version": 3
   },
   "file_extension": ".py",
   "mimetype": "text/x-python",
   "name": "python",
   "nbconvert_exporter": "python",
   "pygments_lexer": "ipython3",
   "version": "3.9.13"
  }
 },
 "nbformat": 4,
 "nbformat_minor": 5
}
